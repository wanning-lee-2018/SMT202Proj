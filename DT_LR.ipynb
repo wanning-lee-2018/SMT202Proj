{
 "cells": [
  {
   "cell_type": "markdown",
   "metadata": {},
   "source": [
    "## We want to build a decision tree to find out what are the most important features that help to determine whether public spaces are loveable or not\n",
    "\n",
    "The decision tree can also potentially be used to determine whether a particular person love  or do not love public spaces\n"
   ]
  },
  {
   "cell_type": "code",
   "execution_count": 1,
   "metadata": {},
   "outputs": [],
   "source": [
    "#import python packages\n",
    "import pandas as pd\n",
    "import numpy as np"
   ]
  },
  {
   "cell_type": "code",
   "execution_count": 2,
   "metadata": {},
   "outputs": [],
   "source": [
    " #import excel data into pandas dataframe\n",
    "data=pd.read_excel('Decision Tree2.xlsx',sheet_name='Main')"
   ]
  },
  {
   "cell_type": "code",
   "execution_count": 3,
   "metadata": {
    "scrolled": true
   },
   "outputs": [
    {
     "data": {
      "text/html": [
       "<div>\n",
       "<style scoped>\n",
       "    .dataframe tbody tr th:only-of-type {\n",
       "        vertical-align: middle;\n",
       "    }\n",
       "\n",
       "    .dataframe tbody tr th {\n",
       "        vertical-align: top;\n",
       "    }\n",
       "\n",
       "    .dataframe thead th {\n",
       "        text-align: right;\n",
       "    }\n",
       "</style>\n",
       "<table border=\"1\" class=\"dataframe\">\n",
       "  <thead>\n",
       "    <tr style=\"text-align: right;\">\n",
       "      <th></th>\n",
       "      <th>Living around paya lebar area</th>\n",
       "      <th>Good memories?</th>\n",
       "      <th>Frequency of visit</th>\n",
       "      <th>Who they visit paya lebar with</th>\n",
       "      <th>Current state-social offerings rating</th>\n",
       "      <th>Current state-openness rating</th>\n",
       "      <th>Current state-aesthetics/amenities rating</th>\n",
       "      <th>Current state-cultural heritage rating</th>\n",
       "      <th>Been to the playground?</th>\n",
       "      <th>Good memories of food?</th>\n",
       "      <th>Restricted by security guard</th>\n",
       "      <th>Accessible/convenient?</th>\n",
       "      <th>Got green spaces/Blue spaces?</th>\n",
       "      <th>Spacious/openness for the place</th>\n",
       "      <th>Convenient for study or working?</th>\n",
       "      <th>Miss old Paya Lebar?</th>\n",
       "      <th>Public spaces are loveable?</th>\n",
       "    </tr>\n",
       "  </thead>\n",
       "  <tbody>\n",
       "    <tr>\n",
       "      <th>0</th>\n",
       "      <td>3-5</td>\n",
       "      <td>Yes</td>\n",
       "      <td>1-2/week</td>\n",
       "      <td>Friends</td>\n",
       "      <td>5.0</td>\n",
       "      <td>5</td>\n",
       "      <td>5.0</td>\n",
       "      <td>5.0</td>\n",
       "      <td>Yes</td>\n",
       "      <td>Yes</td>\n",
       "      <td>No</td>\n",
       "      <td>Yes</td>\n",
       "      <td>Yes</td>\n",
       "      <td>Yes</td>\n",
       "      <td>No</td>\n",
       "      <td>No</td>\n",
       "      <td>Yes</td>\n",
       "    </tr>\n",
       "    <tr>\n",
       "      <th>1</th>\n",
       "      <td>6-10</td>\n",
       "      <td>Yes</td>\n",
       "      <td>Everyday</td>\n",
       "      <td>Family</td>\n",
       "      <td>3.0</td>\n",
       "      <td>3</td>\n",
       "      <td>5.0</td>\n",
       "      <td>3.0</td>\n",
       "      <td>Yes</td>\n",
       "      <td>Yes</td>\n",
       "      <td>No</td>\n",
       "      <td>Yes</td>\n",
       "      <td>Yes</td>\n",
       "      <td>Yes</td>\n",
       "      <td>No</td>\n",
       "      <td>No</td>\n",
       "      <td>Yes</td>\n",
       "    </tr>\n",
       "    <tr>\n",
       "      <th>2</th>\n",
       "      <td>0-2</td>\n",
       "      <td>Yes</td>\n",
       "      <td>Everyday</td>\n",
       "      <td>Friends</td>\n",
       "      <td>4.0</td>\n",
       "      <td>4</td>\n",
       "      <td>4.0</td>\n",
       "      <td>3.0</td>\n",
       "      <td>Yes</td>\n",
       "      <td>Yes</td>\n",
       "      <td>No</td>\n",
       "      <td>Yes</td>\n",
       "      <td>Yes</td>\n",
       "      <td>Yes</td>\n",
       "      <td>No</td>\n",
       "      <td>No</td>\n",
       "      <td>No</td>\n",
       "    </tr>\n",
       "    <tr>\n",
       "      <th>3</th>\n",
       "      <td>3-5</td>\n",
       "      <td>Yes</td>\n",
       "      <td>Everyday</td>\n",
       "      <td>Friends</td>\n",
       "      <td>5.0</td>\n",
       "      <td>5</td>\n",
       "      <td>5.0</td>\n",
       "      <td>4.0</td>\n",
       "      <td>Yes</td>\n",
       "      <td>Yes</td>\n",
       "      <td>No</td>\n",
       "      <td>Yes</td>\n",
       "      <td>Yes</td>\n",
       "      <td>Yes</td>\n",
       "      <td>No</td>\n",
       "      <td>No</td>\n",
       "      <td>No</td>\n",
       "    </tr>\n",
       "    <tr>\n",
       "      <th>4</th>\n",
       "      <td>3-5</td>\n",
       "      <td>Yes</td>\n",
       "      <td>1-2/week</td>\n",
       "      <td>Family</td>\n",
       "      <td>4.0</td>\n",
       "      <td>5</td>\n",
       "      <td>5.0</td>\n",
       "      <td>3.0</td>\n",
       "      <td>Yes</td>\n",
       "      <td>Yes</td>\n",
       "      <td>No</td>\n",
       "      <td>Yes</td>\n",
       "      <td>No</td>\n",
       "      <td>Yes</td>\n",
       "      <td>No</td>\n",
       "      <td>Yes</td>\n",
       "      <td>No</td>\n",
       "    </tr>\n",
       "  </tbody>\n",
       "</table>\n",
       "</div>"
      ],
      "text/plain": [
       "  Living around paya lebar area Good memories? Frequency of visit  \\\n",
       "0                           3-5            Yes           1-2/week   \n",
       "1                          6-10            Yes           Everyday   \n",
       "2                           0-2            Yes           Everyday   \n",
       "3                           3-5            Yes           Everyday   \n",
       "4                           3-5            Yes           1-2/week   \n",
       "\n",
       "  Who they visit paya lebar with  Current state-social offerings rating  \\\n",
       "0                        Friends                                    5.0   \n",
       "1                         Family                                    3.0   \n",
       "2                        Friends                                    4.0   \n",
       "3                        Friends                                    5.0   \n",
       "4                         Family                                    4.0   \n",
       "\n",
       "   Current state-openness rating  Current state-aesthetics/amenities rating  \\\n",
       "0                              5                                        5.0   \n",
       "1                              3                                        5.0   \n",
       "2                              4                                        4.0   \n",
       "3                              5                                        5.0   \n",
       "4                              5                                        5.0   \n",
       "\n",
       "   Current state-cultural heritage rating Been to the playground?  \\\n",
       "0                                     5.0                     Yes   \n",
       "1                                     3.0                     Yes   \n",
       "2                                     3.0                     Yes   \n",
       "3                                     4.0                     Yes   \n",
       "4                                     3.0                     Yes   \n",
       "\n",
       "  Good memories of food? Restricted by security guard Accessible/convenient?  \\\n",
       "0                    Yes                           No                    Yes   \n",
       "1                    Yes                           No                    Yes   \n",
       "2                    Yes                           No                    Yes   \n",
       "3                    Yes                           No                    Yes   \n",
       "4                    Yes                           No                    Yes   \n",
       "\n",
       "  Got green spaces/Blue spaces? Spacious/openness for the place  \\\n",
       "0                           Yes                             Yes   \n",
       "1                           Yes                             Yes   \n",
       "2                           Yes                             Yes   \n",
       "3                           Yes                             Yes   \n",
       "4                            No                             Yes   \n",
       "\n",
       "  Convenient for study or working? Miss old Paya Lebar?  \\\n",
       "0                               No                   No   \n",
       "1                               No                   No   \n",
       "2                               No                   No   \n",
       "3                               No                   No   \n",
       "4                               No                  Yes   \n",
       "\n",
       "  Public spaces are loveable?  \n",
       "0                         Yes  \n",
       "1                         Yes  \n",
       "2                          No  \n",
       "3                          No  \n",
       "4                          No  "
      ]
     },
     "execution_count": 3,
     "metadata": {},
     "output_type": "execute_result"
    }
   ],
   "source": [
    "#quick glance at the dataframe\n",
    "data.head() "
   ]
  },
  {
   "cell_type": "code",
   "execution_count": 4,
   "metadata": {},
   "outputs": [
    {
     "data": {
      "text/plain": [
       "73"
      ]
     },
     "execution_count": 4,
     "metadata": {},
     "output_type": "execute_result"
    }
   ],
   "source": [
    "len(data) #our dataset has 73 rows(small dataset)"
   ]
  },
  {
   "cell_type": "code",
   "execution_count": 5,
   "metadata": {},
   "outputs": [
    {
     "data": {
      "text/plain": [
       "Yes    37\n",
       "No     36\n",
       "Name: Public spaces are loveable?, dtype: int64"
      ]
     },
     "execution_count": 5,
     "metadata": {},
     "output_type": "execute_result"
    }
   ],
   "source": [
    "# classification of the target class (whether public spaces are loveable) is quite balanced\n",
    "data[\"Public spaces are loveable?\"].value_counts()"
   ]
  },
  {
   "cell_type": "code",
   "execution_count": 6,
   "metadata": {},
   "outputs": [],
   "source": [
    "#handling categorical variables (for categorical variables with 2 classes-label encoding)\n",
    "data[\"Good memories?\"].replace(('Yes', 'No'), (1, 0), inplace=True)\n",
    "data[\"Been to the playground?\"].replace(('Yes', 'No'), (1, 0), inplace=True)\n",
    "data[\"Good memories of food?\"].replace(('Yes', 'No'), (1, 0), inplace=True)\n",
    "data[\"Restricted by security guard\"].replace(('Yes', 'No'), (1, 0), inplace=True)\n",
    "data[\"Accessible/convenient?\"].replace(('Yes', 'No'), (1, 0), inplace=True)\n",
    "data[\"Got green spaces/Blue spaces?\"].replace(('Yes', 'No'), (1, 0), inplace=True)\n",
    "data[\"Spacious/openness for the place\"].replace(('Yes', 'No'), (1, 0), inplace=True)\n",
    "data[\"Convenient for study or working?\"].replace(('Yes', 'No'), (1, 0), inplace=True)\n",
    "data[\"Miss old Paya Lebar?\"].replace(('Yes', 'No'), (1, 0), inplace=True)\n",
    "data[\"Public spaces are loveable?\"].replace(('Yes', 'No'), (1, 0), inplace=True)"
   ]
  },
  {
   "cell_type": "code",
   "execution_count": 7,
   "metadata": {},
   "outputs": [],
   "source": [
    "#handling categorical variables (for multiple classes-one-hot encoding)\n",
    "data2 = pd.get_dummies(data = data, columns = ['Living around paya lebar area',\\\n",
    "                                                'Frequency of visit','Who they visit paya lebar with']) "
   ]
  },
  {
   "cell_type": "code",
   "execution_count": 8,
   "metadata": {},
   "outputs": [],
   "source": [
    "#input and outputs of theclassification model, where y is the target class/variable\n",
    "x = data2.drop(columns= 'Public spaces are loveable?')\n",
    "y = data2['Public spaces are loveable?']"
   ]
  },
  {
   "cell_type": "code",
   "execution_count": 10,
   "metadata": {},
   "outputs": [],
   "source": [
    "from sklearn.tree import DecisionTreeClassifier\n",
    "from sklearn.linear_model import LogisticRegression"
   ]
  },
  {
   "cell_type": "code",
   "execution_count": 11,
   "metadata": {},
   "outputs": [],
   "source": [
    "from sklearn.model_selection import train_test_split\n",
    "from sklearn.metrics import accuracy_score"
   ]
  },
  {
   "cell_type": "code",
   "execution_count": 12,
   "metadata": {},
   "outputs": [],
   "source": [
    "#train the classification model \n",
    "#\n",
    "#use train test split for model validation (validating the performance of the model on new data)\n",
    "X_train, X_test, y_train, y_test = train_test_split(x, y, test_size = 0.2, \n",
    "                                                          stratify = y,random_state = 1)\n",
    "# https://stackoverflow.com/questions/29438265/stratified-train-test-split-in-scikit-learn \n",
    "#traintestsplit with stratify vs stratified shuffle split\n",
    "\n",
    "#https://xzz201920.medium.com/stratifiedkfold-v-s-kfold-v-s-stratifiedshufflesplit-ffcae5bfdf\n",
    "#stratified k fold cross validation seemm better than stratified shuffle split\n",
    "\n",
    "\n",
    "# Instantiate dt and criterion can be gini or entropy (strategy to choose features for a split at each node of the decision tree)\n",
    "dt = DecisionTreeClassifier(criterion = 'entropy', max_depth = 3, random_state = 1)\n",
    "#max_depth=2 or max_depth=4 results in a lower accuracy score.\n",
    "    \n",
    "# Fit dt to the training set\n",
    "dt.fit(X_train, y_train) \n",
    "\n",
    "# Predict test set labels\n",
    "y_pred = dt.predict(X_test)"
   ]
  },
  {
   "cell_type": "code",
   "execution_count": 13,
   "metadata": {},
   "outputs": [
    {
     "name": "stderr",
     "output_type": "stream",
     "text": [
      "C:\\Anaconda\\lib\\site-packages\\sklearn\\externals\\six.py:31: DeprecationWarning: The module is deprecated in version 0.21 and will be removed in version 0.23 since we've dropped support for Python 2.7. Please rely on the official version of six (https://pypi.org/project/six/).\n",
      "  \"(https://pypi.org/project/six/).\", DeprecationWarning)\n"
     ]
    },
    {
     "data": {
      "image/png": "[encoded data removed]",
      "text/plain": [
       "<IPython.core.display.Image object>"
      ]
     },
     "execution_count": 13,
     "metadata": {},
     "output_type": "execute_result"
    }
   ],
   "source": [
    "#visualise decision tree\n",
    "from sklearn.tree import export_graphviz\n",
    "import pydotplus\n",
    "from sklearn.externals.six import StringIO  \n",
    "from IPython.display import Image\n",
    "\n",
    "feature_cols = x.columns\n",
    "\n",
    "dot_data = StringIO()\n",
    "export_graphviz(dt, out_file = dot_data, \n",
    "                      feature_names = feature_cols,  \n",
    "                     filled = True, rounded = True,  \n",
    "                    special_characters = True)\n",
    "\n",
    "graph = pydotplus.graph_from_dot_data(dot_data.getvalue())\n",
    "graph.write_png('loveTree.png')\n",
    "Image(graph.create_png())"
   ]
  },
  {
   "cell_type": "code",
   "execution_count": 14,
   "metadata": {},
   "outputs": [
    {
     "data": {
      "text/html": [
       "<div>\n",
       "<style scoped>\n",
       "    .dataframe tbody tr th:only-of-type {\n",
       "        vertical-align: middle;\n",
       "    }\n",
       "\n",
       "    .dataframe tbody tr th {\n",
       "        vertical-align: top;\n",
       "    }\n",
       "\n",
       "    .dataframe thead th {\n",
       "        text-align: right;\n",
       "    }\n",
       "</style>\n",
       "<table border=\"1\" class=\"dataframe\">\n",
       "  <thead>\n",
       "    <tr style=\"text-align: right;\">\n",
       "      <th></th>\n",
       "      <th>Predicted pos</th>\n",
       "      <th>Predicted neg</th>\n",
       "    </tr>\n",
       "  </thead>\n",
       "  <tbody>\n",
       "    <tr>\n",
       "      <th>Actual pos</th>\n",
       "      <td>7</td>\n",
       "      <td>1</td>\n",
       "    </tr>\n",
       "    <tr>\n",
       "      <th>Actual neg</th>\n",
       "      <td>4</td>\n",
       "      <td>3</td>\n",
       "    </tr>\n",
       "  </tbody>\n",
       "</table>\n",
       "</div>"
      ],
      "text/plain": [
       "            Predicted pos  Predicted neg\n",
       "Actual pos              7              1\n",
       "Actual neg              4              3"
      ]
     },
     "execution_count": 14,
     "metadata": {},
     "output_type": "execute_result"
    }
   ],
   "source": [
    "#evaluation metrics for the classification model\n",
    "from sklearn.metrics import confusion_matrix\n",
    "\n",
    "cnf_matrix = confusion_matrix(y_test, y_pred, labels = [1,0])\n",
    "cf = pd.DataFrame(cnf_matrix, columns = ['Predicted pos', 'Predicted neg'], index = ['Actual pos', 'Actual neg'])\n",
    "cf"
   ]
  },
  {
   "cell_type": "code",
   "execution_count": 15,
   "metadata": {},
   "outputs": [
    {
     "name": "stdout",
     "output_type": "stream",
     "text": [
      "Accuracy 0.67\n",
      "Specificity : 0.43\n",
      "Precision : 0.64\n",
      "Recall or Sensitivity : 0.88\n",
      "F1 score 0.74\n"
     ]
    }
   ],
   "source": [
    "#evaluation metrics for the classification model\n",
    "tn, fp, fn, tp = confusion_matrix(y_test, y_pred).ravel()\n",
    "specificity = tn / (tn+fp)\n",
    "precision = tp / (tp + fp)\n",
    "recall_or_sensitivity = tp / (tp + fn)\n",
    "f1=2*((precision*recall_or_sensitivity)/(recall_or_sensitivity+precision))\n",
    "\n",
    "print('Accuracy',round(accuracy_score(y_test, y_pred),2))\n",
    "print(\"Specificity :\", round(specificity,2))\n",
    "print(\"Precision :\", round(precision, 2))\n",
    "print(\"Recall or Sensitivity :\", round(recall_or_sensitivity, 2))\n",
    "print(\"F1 score\",round(f1,2))\n",
    "#weighted average of precision and recall"
   ]
  },
  {
   "cell_type": "code",
   "execution_count": 16,
   "metadata": {},
   "outputs": [
    {
     "name": "stdout",
     "output_type": "stream",
     "text": [
      "Good memories?   : 0.0\n",
      "Current state-social offerings rating   : 0.0\n",
      "Current state-openness rating   : 0.096\n",
      "Current state-aesthetics/amenities rating   : 0.301\n",
      "Current state-cultural heritage rating   : 0.352\n",
      "Been to the playground?   : 0.0\n",
      "Good memories of food?   : 0.0\n",
      "Restricted by security guard   : 0.0\n",
      "Accessible/convenient?   : 0.0\n",
      "Got green spaces/Blue spaces?   : 0.0\n",
      "Spacious/openness for the place   : 0.0\n",
      "Convenient for study or working?   : 0.0\n",
      "Miss old Paya Lebar?   : 0.0\n",
      "Living around paya lebar area_0-2   : 0.0\n",
      "Living around paya lebar area_3-5   : 0.0\n",
      "Living around paya lebar area_6-10   : 0.0\n",
      "Living around paya lebar area_NIL   : 0.125\n",
      "Living around paya lebar area_more than 10   : 0.0\n",
      "Frequency of visit_1-2/week   : 0.0\n",
      "Frequency of visit_1/ fortnight   : 0.0\n",
      "Frequency of visit_3-6/week   : 0.0\n",
      "Frequency of visit_Everyday   : 0.0\n",
      "Frequency of visit_First time   : 0.0\n",
      "Who they visit paya lebar with_Alone   : 0.0\n",
      "Who they visit paya lebar with_Colleagues   : 0.126\n",
      "Who they visit paya lebar with_Family   : 0.0\n",
      "Who they visit paya lebar with_Friends   : 0.0\n",
      "Who they visit paya lebar with_Working   : 0.0\n"
     ]
    }
   ],
   "source": [
    "#determine important features\n",
    "vi = dt.feature_importances_\n",
    "\n",
    "n = len(feature_cols)\n",
    "for i in range(0,n):\n",
    "    print(feature_cols[i] + '   :',vi[i].round(3))"
   ]
  },
  {
   "cell_type": "code",
   "execution_count": 17,
   "metadata": {},
   "outputs": [
    {
     "data": {
      "text/html": [
       "<div>\n",
       "<style scoped>\n",
       "    .dataframe tbody tr th:only-of-type {\n",
       "        vertical-align: middle;\n",
       "    }\n",
       "\n",
       "    .dataframe tbody tr th {\n",
       "        vertical-align: top;\n",
       "    }\n",
       "\n",
       "    .dataframe thead th {\n",
       "        text-align: right;\n",
       "    }\n",
       "</style>\n",
       "<table border=\"1\" class=\"dataframe\">\n",
       "  <thead>\n",
       "    <tr style=\"text-align: right;\">\n",
       "      <th></th>\n",
       "      <th>Predicted pos</th>\n",
       "      <th>Predicted neg</th>\n",
       "    </tr>\n",
       "  </thead>\n",
       "  <tbody>\n",
       "    <tr>\n",
       "      <th>Actual pos</th>\n",
       "      <td>7</td>\n",
       "      <td>1</td>\n",
       "    </tr>\n",
       "    <tr>\n",
       "      <th>Actual neg</th>\n",
       "      <td>4</td>\n",
       "      <td>3</td>\n",
       "    </tr>\n",
       "  </tbody>\n",
       "</table>\n",
       "</div>"
      ],
      "text/plain": [
       "            Predicted pos  Predicted neg\n",
       "Actual pos              7              1\n",
       "Actual neg              4              3"
      ]
     },
     "execution_count": 17,
     "metadata": {},
     "output_type": "execute_result"
    }
   ],
   "source": [
    "#comparing results with another classification model\n",
    "from sklearn.linear_model import LogisticRegression\n",
    "lmodel = LogisticRegression(solver = 'liblinear',C=0.01, random_state = 1)\n",
    "#hyperparameter tuning by changing the complexity parameter. low C value will leads to more regularisation\n",
    "#which helps to prevent overfitting\n",
    "lmodel.fit(X_train,y_train)\n",
    "y_pred1 = lmodel.predict(X_test)\n",
    "cnf_matrix = confusion_matrix(y_test, y_pred1, labels = [1,0])\n",
    "cf = pd.DataFrame(cnf_matrix, columns = ['Predicted pos', 'Predicted neg'], index = ['Actual pos', 'Actual neg'])\n",
    "cf\n"
   ]
  },
  {
   "cell_type": "code",
   "execution_count": 18,
   "metadata": {},
   "outputs": [
    {
     "name": "stdout",
     "output_type": "stream",
     "text": [
      "Accuracy for LogisticRegression :\n",
      "0.67\n",
      "Specificity : 0.43\n",
      "Precision : 0.64\n",
      "Recall or Sensitivity : 0.88\n",
      "F1 score 0.74\n"
     ]
    }
   ],
   "source": [
    "tn, fp, fn, tp = confusion_matrix(y_test, y_pred1).ravel()\n",
    "specificity = tn / (tn+fp)\n",
    "precision = tp / (tp + fp)\n",
    "recall_or_sensitivity = tp / (tp + fn)\n",
    "f1=2*((precision*recall_or_sensitivity)/(recall_or_sensitivity+precision))\n",
    "\n",
    "print(\"Accuracy for LogisticRegression :\")\n",
    "print(round(accuracy_score(y_test, y_pred1),2))\n",
    "print(\"Specificity :\", round(specificity,2))\n",
    "print(\"Precision :\", round(precision, 2))\n",
    "print(\"Recall or Sensitivity :\", round(recall_or_sensitivity, 2))\n",
    "print(\"F1 score\",round(f1,2))\n"
   ]
  },
  {
   "cell_type": "code",
   "execution_count": 19,
   "metadata": {},
   "outputs": [
    {
     "name": "stdout",
     "output_type": "stream",
     "text": [
      "Index([['Current state-aesthetics/amenities rating', 'Current state-social offerings rating', 'Living around paya lebar area_NIL', 'Who they visit paya lebar with_Colleagues', 'Frequency of visit_3-6/week', 'Frequency of visit_Everyday', 'Who they visit paya lebar with_Working', 'Living around paya lebar area_0-2', 'Good memories of food?', 'Who they visit paya lebar with_Alone', 'Accessible/convenient?', 'Frequency of visit_First time', 'Living around paya lebar area_6-10', 'Current state-openness rating', 'Frequency of visit_1/ fortnight', 'Spacious/openness for the place', 'Who they visit paya lebar with_Family', 'Frequency of visit_1-2/week', 'Living around paya lebar area_3-5', 'Living around paya lebar area_more than 10', 'Who they visit paya lebar with_Friends', 'Convenient for study or working?', 'Good memories?', 'Restricted by security guard', 'Miss old Paya Lebar?', 'Been to the playground?', 'Got green spaces/Blue spaces?', 'Current state-cultural heritage rating']], dtype='object')\n"
     ]
    }
   ],
   "source": [
    "#importance of feature is based on the magnitude of the coefficents\n",
    "lfeat=lmodel.coef_\n",
    "# print(lfeat)\n",
    "# test=abs(lfeat)\n",
    "sel=np.argsort(lfeat)[::-1]\n",
    "#print importance features in descending level of importance\n",
    "print(x.columns[sel])"
   ]
  }
 ],
 "metadata": {
  "kernelspec": {
   "display_name": "Python 3",
   "language": "python",
   "name": "python3"
  },
  "language_info": {
   "codemirror_mode": {
    "name": "ipython",
    "version": 3
   },
   "file_extension": ".py",
   "mimetype": "text/x-python",
   "name": "python",
   "nbconvert_exporter": "python",
   "pygments_lexer": "ipython3",
   "version": "3.7.3"
  }
 },
 "nbformat": 4,
 "nbformat_minor": 2
}
