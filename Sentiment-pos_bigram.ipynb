{
 "cells": [
  {
   "cell_type": "markdown",
   "metadata": {},
   "source": [
    "## Through topic modelling, we want to find out the common topics derived from people's positive sentiments regarding public spaces in Paya Lebar"
   ]
  },
  {
   "cell_type": "code",
   "execution_count": 1,
   "metadata": {},
   "outputs": [],
   "source": [
    "# Standard dataframe packages\n",
    "import pandas as pd\n",
    "import numpy as np\n",
    "import matplotlib.pyplot as plt\n",
    "\n",
    "# Text analytics packages\n",
    "import gensim\n",
    "import nltk\n",
    "from sklearn.feature_extraction.text import CountVectorizer"
   ]
  },
  {
   "cell_type": "code",
   "execution_count": 2,
   "metadata": {},
   "outputs": [],
   "source": [
    "#Note: Try either of the following encodings: encoding='utf-8' or encoding='ISO-8859-1'\n",
    "#import data\n",
    "data=pd.read_excel('Sentiment.xlsx',sheet_name=\"Main\",skipfooter=1)"
   ]
  },
  {
   "cell_type": "code",
   "execution_count": 3,
   "metadata": {},
   "outputs": [
    {
     "data": {
      "text/html": [
       "<div>\n",
       "<style scoped>\n",
       "    .dataframe tbody tr th:only-of-type {\n",
       "        vertical-align: middle;\n",
       "    }\n",
       "\n",
       "    .dataframe tbody tr th {\n",
       "        vertical-align: top;\n",
       "    }\n",
       "\n",
       "    .dataframe thead th {\n",
       "        text-align: right;\n",
       "    }\n",
       "</style>\n",
       "<table border=\"1\" class=\"dataframe\">\n",
       "  <thead>\n",
       "    <tr style=\"text-align: right;\">\n",
       "      <th></th>\n",
       "      <th>Social Offerings</th>\n",
       "      <th>Openness</th>\n",
       "      <th>Amenities</th>\n",
       "      <th>Cultural Heritage</th>\n",
       "      <th>Full text</th>\n",
       "    </tr>\n",
       "  </thead>\n",
       "  <tbody>\n",
       "    <tr>\n",
       "      <th>0</th>\n",
       "      <td>We are staying in Geylang near the river. We g...</td>\n",
       "      <td>Very nice. So far I haven't encountered bad pe...</td>\n",
       "      <td>I think it’s already nice just the mosquitoes....</td>\n",
       "      <td>Usually we will go to the mall. I don’t get to...</td>\n",
       "      <td>We are staying in Geylang near the river. We g...</td>\n",
       "    </tr>\n",
       "    <tr>\n",
       "      <th>1</th>\n",
       "      <td>Not so really bonded to community. Paya Lebar ...</td>\n",
       "      <td>Last time my impression was this place was for...</td>\n",
       "      <td>The most modern building will be Paya Lebar Qu...</td>\n",
       "      <td>Yeah then the URA got a certain development pl...</td>\n",
       "      <td>Not so really bonded to community. Paya Lebar ...</td>\n",
       "    </tr>\n",
       "    <tr>\n",
       "      <th>2</th>\n",
       "      <td>OK actually we go to the shopping mall. This i...</td>\n",
       "      <td>Oh yeah absolutely absolutely welcome people i...</td>\n",
       "      <td>Let's say I was very surprised by PLQ. I think...</td>\n",
       "      <td>Absolutely important, yes that's why I think P...</td>\n",
       "      <td>OK actually we go to the shopping mall. This i...</td>\n",
       "    </tr>\n",
       "    <tr>\n",
       "      <th>3</th>\n",
       "      <td>I started liking this place after 4 months sta...</td>\n",
       "      <td>Around the condo. Just like family, we know ea...</td>\n",
       "      <td>Playground one, two things very boring. I thin...</td>\n",
       "      <td>Don't really know any cultural heritage here. ...</td>\n",
       "      <td>I started liking this place after 4 months sta...</td>\n",
       "    </tr>\n",
       "    <tr>\n",
       "      <th>4</th>\n",
       "      <td>My house is near to church. I’m a christian so...</td>\n",
       "      <td>I feel connected because mostly food. I usuall...</td>\n",
       "      <td>The river reminds me of my hometown.</td>\n",
       "      <td>No I don’t go there.</td>\n",
       "      <td>My house is near to church. I’m a christian so...</td>\n",
       "    </tr>\n",
       "  </tbody>\n",
       "</table>\n",
       "</div>"
      ],
      "text/plain": [
       "                                    Social Offerings  \\\n",
       "0  We are staying in Geylang near the river. We g...   \n",
       "1  Not so really bonded to community. Paya Lebar ...   \n",
       "2  OK actually we go to the shopping mall. This i...   \n",
       "3  I started liking this place after 4 months sta...   \n",
       "4  My house is near to church. I’m a christian so...   \n",
       "\n",
       "                                            Openness  \\\n",
       "0  Very nice. So far I haven't encountered bad pe...   \n",
       "1  Last time my impression was this place was for...   \n",
       "2  Oh yeah absolutely absolutely welcome people i...   \n",
       "3  Around the condo. Just like family, we know ea...   \n",
       "4  I feel connected because mostly food. I usuall...   \n",
       "\n",
       "                                           Amenities  \\\n",
       "0  I think it’s already nice just the mosquitoes....   \n",
       "1  The most modern building will be Paya Lebar Qu...   \n",
       "2  Let's say I was very surprised by PLQ. I think...   \n",
       "3  Playground one, two things very boring. I thin...   \n",
       "4              The river reminds me of my hometown.    \n",
       "\n",
       "                                   Cultural Heritage  \\\n",
       "0  Usually we will go to the mall. I don’t get to...   \n",
       "1  Yeah then the URA got a certain development pl...   \n",
       "2  Absolutely important, yes that's why I think P...   \n",
       "3  Don't really know any cultural heritage here. ...   \n",
       "4                              No I don’t go there.    \n",
       "\n",
       "                                           Full text  \n",
       "0  We are staying in Geylang near the river. We g...  \n",
       "1  Not so really bonded to community. Paya Lebar ...  \n",
       "2  OK actually we go to the shopping mall. This i...  \n",
       "3  I started liking this place after 4 months sta...  \n",
       "4  My house is near to church. I’m a christian so...  "
      ]
     },
     "execution_count": 3,
     "metadata": {},
     "output_type": "execute_result"
    }
   ],
   "source": [
    "#quick peek at the data\n",
    "data.head()"
   ]
  },
  {
   "cell_type": "code",
   "execution_count": 4,
   "metadata": {},
   "outputs": [],
   "source": [
    "data2=data.loc[:,\"Full text\"].astype(\"str\")"
   ]
  },
  {
   "cell_type": "code",
   "execution_count": 5,
   "metadata": {},
   "outputs": [],
   "source": [
    "#import external packages for sentiment analysis\n",
    "from nltk.sentiment.vader import SentimentIntensityAnalyzer"
   ]
  },
  {
   "cell_type": "code",
   "execution_count": 8,
   "metadata": {},
   "outputs": [],
   "source": [
    "# nltk.download('vader_lexicon')"
   ]
  },
  {
   "cell_type": "code",
   "execution_count": 9,
   "metadata": {},
   "outputs": [],
   "source": [
    "analyzer = SentimentIntensityAnalyzer()\n",
    "#quick peek at data generated from vader\n",
    "# for i in range(len(data2)):\n",
    "#     scores = analyzer.polarity_scores(data2.iloc[i])\n",
    "#     print(scores)"
   ]
  },
  {
   "cell_type": "code",
   "execution_count": 10,
   "metadata": {},
   "outputs": [],
   "source": [
    "# VADER produces four sentiment metrics from these word ratings The first three, positive, neutral and negative,\n",
    "# represent the proportion of the text that falls into those categories. \n",
    "# The polarity_scores gives us numerical values for use of negative, neutral, and positive word choice. \n",
    "# The compound value reflects the overall sentiment normalized to range of -1 being very negative to +1 being very positive.\n",
    "#Printing the sentiment nicely in a table format. \n",
    "my_vader_score_compound = [ ] \n",
    "my_vader_score_positive = [ ] \n",
    "my_vader_score_negative = [ ] \n",
    "my_vader_score_neutral = [ ] \n",
    "\n",
    "for i in range(len(data2)):\n",
    "    my_analyzer = analyzer.polarity_scores(data2.iloc[i])\n",
    "    my_vader_score_compound.append(my_analyzer['compound'])\n",
    "    my_vader_score_positive.append(my_analyzer['pos'])\n",
    "    my_vader_score_negative.append(my_analyzer['neg']) \n",
    "    my_vader_score_neutral.append(my_analyzer['neu']) \n",
    "\n",
    "\n",
    "#converting sentiment values to numpy for easier usage\n",
    "my_vader_score_compound = np.array(my_vader_score_compound)\n",
    "my_vader_score_positive = np.array(my_vader_score_positive)\n",
    "my_vader_score_negative = np.array(my_vader_score_negative)\n",
    "my_vader_score_neutral = np.array(my_vader_score_neutral)"
   ]
  },
  {
   "cell_type": "code",
   "execution_count": 11,
   "metadata": {},
   "outputs": [],
   "source": [
    "dataVader=data2.copy()\n",
    "dataVader=pd.DataFrame(dataVader)"
   ]
  },
  {
   "cell_type": "code",
   "execution_count": 12,
   "metadata": {},
   "outputs": [
    {
     "data": {
      "text/html": [
       "<div>\n",
       "<style scoped>\n",
       "    .dataframe tbody tr th:only-of-type {\n",
       "        vertical-align: middle;\n",
       "    }\n",
       "\n",
       "    .dataframe tbody tr th {\n",
       "        vertical-align: top;\n",
       "    }\n",
       "\n",
       "    .dataframe thead th {\n",
       "        text-align: right;\n",
       "    }\n",
       "</style>\n",
       "<table border=\"1\" class=\"dataframe\">\n",
       "  <thead>\n",
       "    <tr style=\"text-align: right;\">\n",
       "      <th></th>\n",
       "      <th>Full text</th>\n",
       "      <th>Score</th>\n",
       "      <th>postve</th>\n",
       "      <th>neg</th>\n",
       "      <th>neu</th>\n",
       "    </tr>\n",
       "  </thead>\n",
       "  <tbody>\n",
       "    <tr>\n",
       "      <th>0</th>\n",
       "      <td>We are staying in Geylang near the river. We g...</td>\n",
       "      <td>0.9668</td>\n",
       "      <td>0.184</td>\n",
       "      <td>0.000</td>\n",
       "      <td>0.816</td>\n",
       "    </tr>\n",
       "    <tr>\n",
       "      <th>1</th>\n",
       "      <td>Not so really bonded to community. Paya Lebar ...</td>\n",
       "      <td>0.9886</td>\n",
       "      <td>0.110</td>\n",
       "      <td>0.036</td>\n",
       "      <td>0.855</td>\n",
       "    </tr>\n",
       "    <tr>\n",
       "      <th>2</th>\n",
       "      <td>OK actually we go to the shopping mall. This i...</td>\n",
       "      <td>0.9996</td>\n",
       "      <td>0.240</td>\n",
       "      <td>0.012</td>\n",
       "      <td>0.748</td>\n",
       "    </tr>\n",
       "    <tr>\n",
       "      <th>3</th>\n",
       "      <td>I started liking this place after 4 months sta...</td>\n",
       "      <td>0.9914</td>\n",
       "      <td>0.205</td>\n",
       "      <td>0.022</td>\n",
       "      <td>0.773</td>\n",
       "    </tr>\n",
       "    <tr>\n",
       "      <th>4</th>\n",
       "      <td>My house is near to church. I’m a christian so...</td>\n",
       "      <td>0.9420</td>\n",
       "      <td>0.190</td>\n",
       "      <td>0.037</td>\n",
       "      <td>0.773</td>\n",
       "    </tr>\n",
       "  </tbody>\n",
       "</table>\n",
       "</div>"
      ],
      "text/plain": [
       "                                           Full text   Score  postve    neg  \\\n",
       "0  We are staying in Geylang near the river. We g...  0.9668   0.184  0.000   \n",
       "1  Not so really bonded to community. Paya Lebar ...  0.9886   0.110  0.036   \n",
       "2  OK actually we go to the shopping mall. This i...  0.9996   0.240  0.012   \n",
       "3  I started liking this place after 4 months sta...  0.9914   0.205  0.022   \n",
       "4  My house is near to church. I’m a christian so...  0.9420   0.190  0.037   \n",
       "\n",
       "     neu  \n",
       "0  0.816  \n",
       "1  0.855  \n",
       "2  0.748  \n",
       "3  0.773  \n",
       "4  0.773  "
      ]
     },
     "execution_count": 12,
     "metadata": {},
     "output_type": "execute_result"
    }
   ],
   "source": [
    "dataVader['Score'] = my_vader_score_compound\n",
    "dataVader['postve'] = my_vader_score_positive\n",
    "dataVader['neg'] = my_vader_score_negative\n",
    "dataVader['neu'] = my_vader_score_neutral\n",
    "dataVader.head()"
   ]
  },
  {
   "cell_type": "code",
   "execution_count": 14,
   "metadata": {},
   "outputs": [],
   "source": [
    "#Setting threshold for what comment is considered positive sentiment\n",
    "pos_data=dataVader[dataVader[\"Score\"]>=0.75]\n",
    "pos_text=pos_data[\"Full text\"]"
   ]
  },
  {
   "cell_type": "code",
   "execution_count": 15,
   "metadata": {},
   "outputs": [],
   "source": [
    "#create stop words list\n",
    "stop_words = nltk.corpus.stopwords.words('english')\n",
    "stop_words.extend(['quite', 'paya', 'lebar', 'PLQ', 'would','go','come',\n",
    "                   'already','feel','like','place','around','area','this',\n",
    "                   'know','also','really','nice','enough','good','yeah','important','love','absolutely','still','okay','even','though','cuz'\n",
    "                  ,'make'])\n",
    "\n",
    "#create tokenizer\n",
    "#\\w matches [a-zA-Z0-9_]. This tokenizer splits the string using regular expressions. E.g - '[A-Z]\\w+' will select just the capital words\n",
    "wtk = nltk.tokenize.RegexpTokenizer(r'\\w+')\n",
    "\n",
    "#create lemmatizer\n",
    "wnl = nltk.stem.wordnet.WordNetLemmatizer()"
   ]
  },
  {
   "cell_type": "code",
   "execution_count": 16,
   "metadata": {},
   "outputs": [
    {
     "name": "stdout",
     "output_type": "stream",
     "text": [
      "['staying_geylang', 'geylang_near', 'near_river', 'river_square', 'square_child', 'child_taking', 'taking_care', 'care_taking', 'taking_ballet', 'ballet_class', 'class_playground', 'playground_accessible', 'accessible_u', 'u_every', 'every_time', 'time_usually', 'usually_take', 'take_20', '20_minute', 'minute_house', 'house_walk', 'walk_playground', 'playground_accessibility', 'accessibility_store', 'store_plq', 'plq_many', 'many_amenity', 'amenity_far', 'far_encountered', 'encountered_bad', 'bad_people', 'people_singaporean', 'singaporean_friendly', 'friendly_think', 'think_mosquito', 'mosquito_far', 'far_nothing', 'nothing_complaint', 'complaint_usually', 'usually_mall', 'mall_get', 'get_see', 'see_heritage', 'heritage_want', 'want_see', 'see_way']\n",
      "['bonded_community', 'community_commercial', 'commercial_talk', 'talk_living', 'living_estate', 'estate_value', 'value_three', 'three_lot', 'lot_light', 'light_industrial', 'industrial_behind', 'behind_car', 'car_servicing', 'servicing_kind', 'kind_thing', 'thing_long', 'long_course', 'course_community', 'community_population', 'population_keep', 'keep_increasing', 'increasing_need', 'need_recreational', 'recreational_activity', 'activity_pas', 'pas_time', 'time_one', 'one_leave', 'leave_government', 'government_cannot', 'cannot_anything', 'anything_last', 'last_time', 'time_impression', 'impression_malay', 'malay_speak', 'speak_malay', 'malay_count', 'count_one', 'one_ten', 'ten_could', 'could_sing', 'sing_national', 'national_anthem', 'anthem_child', 'child_day', 'day_song', 'song_home', 'home_alien', 'alien_welcome', 'welcome_kind', 'kind_community', 'community_spirit', 'spirit_first', 'first_came', 'came_nobody', 'nobody_take', 'take_time', 'time_hawker', 'hawker_centre', 'centre_everyday', 'everyday_friendly', 'friendly_see', 'see_change', 'change_store', 'store_overship', 'overship_tasted', 'tasted_every', 'every_store', 'store_give', 'give_comment', 'comment_negative', 'negative_got', 'got_aunty', 'aunty_sit', 'sit_opposite', 'opposite_tell', 'tell_store', 'store_avoid', 'avoid_prefer', 'prefer_char', 'char_kway', 'kway_teow', 'teow_order', 'order_acknowledge', 'acknowledge_one', 'one_plate', 'plate_char', 'char_kway', 'kway_teow', 'teow_bother', 'bother_acknowledge', 'acknowledge_order', 'order_nearly', 'nearly_quarrel', 'quarrel_modern', 'modern_building', 'building_quarter', 'quarter_city', 'city_plaza', 'plaza_gone', 'gone_10', '10_year', 'year_ago', 'ago_city', 'city_plaza', 'plaza_thing', 'thing_removed', 'removed_long', 'long_tanjong', 'tanjong_katong', 'katong_complex', 'complex_70', '70_singapore', 'singapore_city', 'city_plaza', 'plaza_5th', '5th_story', 'story_food', 'food_ban', 'ban_mian', 'mian_hope', 'hope_building', 'building_gone', 'gone_soon', 'soon_blend', 'blend_whole', 'whole_picture', 'picture_gone', 'gone_sooner', 'sooner_later', 'later_refurbished', 'refurbished_blend', 'blend_look', 'look_structure', 'structure_nowadays', 'nowadays_hawker', 'hawker_centre', 'centre_look', 'look_suggest', 'suggest_move', 'move_convenient', 'convenient_transport', 'transport_right', 'right_two', 'two_mrt', 'mrt_station', 'station_drive', 'drive_straight', 'straight_way', 'way_along', 'along_road', 'road_bring', 'bring_chinatown', 'chinatown_need', 'need_turn', 'turn_left', 'left_right', 'right_convenient', 'convenient_think', 'think_food', 'food_people', 'people_eat', 'eat_everyday', 'everyday_hawker', 'hawker_centre', 'centre_packed', 'packed_maybe', 'maybe_hawker', 'hawker_centre', 'centre_one', 'one_geylang', 'geylang_serai', 'serai_hawker', 'hawker_centre', 'centre_non', 'non_muslim', 'muslim_food', 'food_today', 'today_nobody', 'nobody_dared', 'dared_sell', 'sell_pork', 'pork_ura', 'ura_got', 'got_certain', 'certain_development', 'development_plan', 'plan_demolished', 'demolished_built', 'built_brand', 'brand_new', 'new_cc', 'cc_wisma', 'wisma_geylang', 'geylang_serai', 'serai_preserved', 'preserved_tradition', 'tradition_example', 'example_joo', 'joo_chiat', 'chiat_shophouses', 'shophouses_building', 'building_style', 'style_peranakan', 'peranakan_pre', 'pre_war', 'war_style', 'style_everywhere', 'everywhere_long', 'long_cultural', 'cultural_value', 'value_see', 'see_school', 'school_teacher', 'teacher_bring', 'bring_child', 'child_along', 'along_cultural', 'cultural_tour', 'tour_joo', 'joo_chiat', 'chiat_geylang', 'geylang_serai', 'serai_continue', 'continue_multicultural', 'multicultural_take', 'take_care', 'care_every', 'every_culture', 'culture_interest', 'interest_equally', 'equally_possible', 'possible_culture', 'culture_unique', 'unique_group', 'group_omitted', 'omitted_treat', 'treat_everybody', 'everybody_equally', 'equally_kampong', 'kampong_faint', 'faint_memory']\n",
      "['ok_actually', 'actually_shopping', 'shopping_mall', 'mall_first', 'first_time', 'time_playground', 'playground_discovered', 'discovered_open', 'open_today', 'today_plq', 'plq_shopping', 'shopping_supermarket', 'supermarket_service', 'service_mrt', 'mrt_shopping', 'shopping_mall', 'mall_convenient', 'convenient_actually', 'actually_east', 'east_coast', 'coast_convenient', 'convenient_airport', 'airport_traveling', 'traveling_often', 'often_convenient', 'convenient_le', 'le_crowded', 'crowded_place', 'place_singapore', 'singapore_crowded', 'crowded_surrounding', 'surrounding_community', 'community_spirit', 'spirit_participate', 'participate_community', 'community_event', 'event_close', 'close_neighbour', 'neighbour_yes', 'yes_want', 'want_move', 'move_stay', 'stay_condo', 'condo_nearby', 'nearby_community', 'community_condo', 'condo_yes', 'yes_got', 'got_lot', 'lot_friend', 'friend_never', 'never_change', 'change_location', 'location_since', 'since_07', '07_year', 'year_ago', 'ago_actually', 'actually_cycling', 'cycling_convenient', 'convenient_labor', 'labor_east', 'east_coast', 'coast_park', 'park_bedok', 'bedok_connection', 'connection_sometimes', 'sometimes_barbeque', 'barbeque_unfortunately', 'unfortunately_office', 'office_nearby', 'nearby_convenient', 'convenient_one', 'one_stop', 'stop_mrt', 'mrt_green', 'green_space', 'space_daughter', 'daughter_playground', 'playground_like', 'like_play', 'play_playground', 'playground_whenever', 'whenever_see', 'see_playground', 'playground_go', 'go_definitely', 'definitely_meeting', 'meeting_expectation', 'expectation_maybe', 'maybe_management', 'management_able', 'able_rent', 'rent_place', 'place_better', 'better_shop', 'shop_oh', 'oh_welcome', 'welcome_people', 'people_beautiful', 'beautiful_family', 'family_foreigner', 'foreigner_community', 'community_event', 'event_kind', 'kind_thing', 'thing_maybe', 'maybe_travel', 'travel_lot', 'lot_opportunity', 'opportunity_take', 'take_flight', 'flight_interesting', 'interesting_choose', 'choose_settle', 'settle_singapore', 'singapore_asian', 'asian_wife', 'wife_china', 'china_singapore', 'singapore_perfect', 'perfect_combination', 'combination_asia', 'asia_western', 'western_mix', 'mix_everything', 'everything_daughter', 'daughter_happy', 'happy_born', 'born_singapore', 'singapore_6', '6_year', 'year_old', 'old_considered', 'considered_singaporean', 'singaporean_consider', 'consider_half', 'half_half', 'half_country', 'country_happy', 'happy_resident', 'resident_singapore', 'singapore_let', 'let_say', 'say_surprised', 'surprised_plq', 'plq_think', 'think_changed', 'changed_totally', 'totally_environment', 'environment_fact', 'fact_see', 'see_many', 'many_people', 'people_plq', 'plq_asking', 'asking_people', 'people_plq', 'plq_worth', 'worth_build', 'build_new', 'new_shopping', 'shopping_mall', 'mall_realize', 'realize_see', 'see_crowded', 'crowded_people', 'people_like', 'like_like', 'like_apart', 'apart_plq', 'plq_actually', 'actually_preferred', 'preferred_location', 'location_service', 'service_mrt', 'mrt_shopping', 'shopping_mall', 'mall_convenient', 'convenient_green', 'green_space', 'space_becoming', 'becoming_le', 'le_le', 'le_new', 'new_shopping', 'shopping_mall', 'mall_think', 'think_combination', 'combination_green', 'green_built', 'built_place', 'place_think', 'think_generally', 'generally_stay', 'stay_europe', 'europe_work', 'work_stay', 'stay_outside', 'outside_time', 'time_green', 'green_space', 'space_daughter', 'daughter_playground', 'playground_like', 'like_play', 'play_playground', 'playground_whenever', 'whenever_see', 'see_playground', 'playground_go', 'go_impossible', 'impossible_hometown', 'hometown_find', 'find_shop', 'shop_open', 'open_7', '7_00', '00_clock', 'clock_impossible', 'impossible_shopping', 'shopping_mall', 'mall_open', 'open_till', 'till_10', '10_00', '00_clock', 'clock_24', '24_hour', 'hour_convenience', 'convenience_store', 'store_gym', 'gym_anytime', 'anytime_metropolitan', 'metropolitan_concept', 'concept_life', 'life_think', 'think_u', 'u_yes', 'yes_think', 'think_play', 'play_role', 'role_heritage', 'heritage_part', 'part_singapore', 'singapore_respect', 'respect_keep', 'keep_future', 'future_heritage', 'heritage_much', 'much_guy', 'guy_bring', 'bring_value', 'value_u', 'u_maybe', 'maybe_advertisement', 'advertisement_magazine', 'magazine_whatever', 'whatever_newspaper', 'newspaper_heritage']\n",
      "['started_liking', 'liking_4', '4_month', 'month_staying', 'staying_everyone', 'everyone_condo', 'condo_always', 'always_together', 'together_compared', 'compared_playground', 'playground_many', 'many_object', 'object_play', 'play_sit', 'sit_child', 'child_thing', 'thing_play', 'play_quarrel', 'quarrel_boy', 'boy_scared', 'scared_height', 'height_condo', 'condo_one', 'one_lot', 'lot_condo', 'condo_family', 'family_people', 'people_condo', 'condo_truly', 'truly_people', 'people_first', 'first_time', 'time_came', 'came_anything', 'anything_starting', 'starting_convenient', 'convenient_want', 'want_buy', 'buy_something', 'something_want', 'want_send', 'send_money', 'money_easily', 'easily_playground', 'playground_one', 'one_two', 'two_thing', 'thing_boring', 'boring_think', 'think_playground', 'playground_convenient', 'convenient_sit', 'sit_let', 'let_play', 'play_need', 'need_friend', 'friend_ask', 'ask_play', 'play_spend', 'spend_sunday', 'sunday_always', 'always_aidha', 'aidha_every', 'every_sunday', 'sunday_trekking', 'trekking_cultural', 'cultural_heritage', 'heritage_kampong', 'kampong_glam', 'glam_visit', 'visit_sultan', 'sultan_mosque', 'mosque_many', 'many_people', 'people_selling', 'selling_get', 'get_thing', 'thing_city', 'city_plaza']\n",
      "['house_near', 'near_church', 'church_christian', 'christian_spend', 'spend_time', 'time_friend', 'friend_plq', 'plq_sometimes', 'sometimes_one', 'one_popular', 'popular_space', 'space_lot', 'lot_greenery', 'greenery_crowded', 'crowded_space', 'space_feel', 'feel_happy', 'happy_feel', 'feel_le', 'le_homesick', 'homesick_public', 'public_place', 'place_lot', 'lot_people', 'people_think', 'think_singapore', 'singapore_progressive', 'progressive_well', 'well_connected', 'connected_mostly', 'mostly_food', 'food_usually', 'usually_eat', 'eat_geylang', 'geylang_sometimes', 'sometimes_basement', 'basement_square', 'square_river', 'river_reminds', 'reminds_hometown']\n",
      "['one_week', 'week_one', 'one_time', 'time_child', 'child_drawing', 'drawing_class', 'class_near', 'near_kinex', 'kinex_shopping', 'shopping_mall', 'mall_living', 'living_10', '10_year', 'year_used', 'used_live', 'live_hdb', 'hdb_everything', 'everything_convenient', 'convenient_sometimes', 'sometimes_geylang', 'geylang_serai', 'serai_market', 'market_convenient', 'convenient_see', 'see_playground', 'playground_want', 'want_find', 'find_playground', 'playground_cannot', 'cannot_find', 'find_usually', 'usually_spend', 'spend_time', 'time_see', 'see_run', 'run_sitting', 'sitting_need', 'need_playground', 'playground_enjoy', 'enjoy_sitting', 'sitting_open', 'open_space', 'space_plq', 'plq_family', 'family_bonding', 'bonding_participate', 'participate_community', 'community_event', 'event_think', 'think_lived', 'lived_3', '3_4', '4_year', 'year_school', 'school_aljunid', 'aljunid_convenient', 'convenient_think', 'think_roommate', 'roommate_china', 'china_live', 'live_together', 'together_singaporean', 'singaporean_friendly', 'friendly_problem', 'problem_openness', 'openness_hope', 'hope_build', 'build_shopping', 'shopping_mall', 'mall_better', 'better_lot', 'lot_plant', 'plant_recently', 'recently_built', 'built_lot', 'lot_thing', 'thing_condominium', 'condominium_shopping', 'shopping_think', 'think_building', 'building_much', 'much_park', 'park_looking', 'looking_looking', 'looking_playground', 'playground_cannot', 'cannot_find', 'find_shopping', 'shopping_mall', 'mall_shopping', 'shopping_mall', 'mall_modern', 'modern_peaceful', 'peaceful_live', 'live_lived', 'lived_woodland', 'woodland_always', 'always_want', 'want_move', 'move_back', 'back_convenient', 'convenient_market', 'market_shopping', 'shopping_mall', 'mall_woodland', 'woodland_far', 'far_away', 'away_want', 'want_improve', 'improve_improve', 'improve_library', 'library_food', 'food_court', 'court_near', 'near_kinex', 'kinex_old', 'old_hdbs', 'hdbs_removed', 'removed_lot', 'lot_old', 'old_place', 'place_destroying', 'destroying_history']\n",
      "['meet_friend', 'friend_offday', 'offday_every', 'every_week', 'week_twice', 'twice_month', 'month_meet', 'meet_nearby', 'nearby_everywhere', 'everywhere_live', 'live_near', 'near_food', 'food_kopitiam', 'kopitiam_indonesian', 'indonesian_food', 'food_city', 'city_plaza', 'plaza_penyat', 'penyat_favourite', 'favourite_food', 'food_smash', 'smash_duck', 'duck_smash', 'smash_duck', 'duck_daughter', 'daughter_favourite', 'favourite_food', 'food_miss', 'miss_daughter', 'daughter_eat', 'eat_daughter', 'daughter_favourite', 'favourite_food', 'food_always', 'always_east', 'east_coast', 'coast_park', 'park_waiting', 'waiting_friend', 'friend_east', 'east_coast', 'coast_back', 'back_hari', 'hari_raya', 'raya_always', 'always_meet', 'meet_friend', 'friend_sometimes', 'sometimes_cook', 'cook_food', 'food_eat', 'eat_together', 'together_sit', 'sit_ground', 'ground_eat', 'eat_together', 'together_food', 'food_day', 'day_hunting', 'hunting_food', 'food_employer', 'employer_house', 'house_sometimes', 'sometimes_food', 'food_chinese', 'chinese_food', 'food_indonesian', 'indonesian_food', 'food_different', 'different_hometown', 'hometown_meet', 'meet_friend', 'friend_teach', 'teach_patience', 'patience_share', 'share_keep', 'keep_calling', 'calling_miss', 'miss_hometown', 'hometown_miss', 'miss_child', 'child_relate', 'relate_glenlink', 'glenlink_park', 'park_often', 'often_seldom', 'seldom_bored', 'bored_got', 'got_karaoke', 'karaoke_sing', 'sing_song', 'song_relax', 'relax_mind', 'mind_tired', 'tired_part', 'part_community', 'community_lot', 'lot_friend', 'friend_lot', 'lot_indonesian', 'indonesian_people', 'people_hometown', 'hometown_see', 'see_people', 'people_say', 'say_hi', 'hi_feeling', 'feeling_close', 'close_neighbour', 'neighbour_friend', 'friend_going', 'going_back', 'back_friend', 'friend_welcome', 'welcome_food', 'food_meet', 'meet_friend', 'friend_easy', 'easy_public', 'public_place', 'place_sit', 'sit_together', 'together_everything', 'everything_unpleasant', 'unpleasant_memory', 'memory_memory', 'memory_city', 'city_plaza', 'plaza_first', 'first_building', 'building_went', 'went_day', 'day_give', 'give_first', 'first_impression', 'impression_stay', 'stay_singapore', 'singapore_building', 'building_built', 'built_favourite', 'favourite_city', 'city_plaza', 'plaza_katong', 'katong_complex', 'complex_seldom']\n",
      "['yes_live', 'live_lived', 'lived_seven', 'seven_year', 'year_staying', 'staying_one', 'one_year', 'year_inside', 'inside_playground', 'playground_find', 'find_bad', 'bad_bad', 'bad_place', 'place_child', 'child_play', 'play_activity', 'activity_dance', 'dance_activity', 'activity_much', 'much_talking', 'talking_neighbour', 'neighbour_back', 'back_door', 'door_closed', 'closed_talk', 'talk_chinese', 'chinese_national', 'national_people', 'people_communicate', 'communicate_language', 'language_barrier', 'barrier_much', 'much_communication', 'communication_english', 'english_difficult', 'difficult_place', 'place_child', 'child_play', 'play_see', 'see_park', 'park_water', 'water_park', 'park_child', 'child_city', 'city_plaza', 'plaza_nothing', 'nothing_much', 'much_selling', 'selling_clothes']\n",
      "['school_geylang', 'geylang_methodist', 'methodist_finished', 'finished_psle', 'psle_came', 'came_great', 'great_hang', 'hang_feeling', 'feeling_stressed', 'stressed_wanted', 'wanted_chill', 'chill_first', 'first_opened', 'opened_came', 'came_see', 'see_family', 'family_friend', 'friend_told', 'told_u', 'u_great', 'great_lot', 'lot_mall', 'mall_plq', 'plq_singpost', 'singpost_lot', 'lot_mall', 'mall_buy', 'buy_snack', 'snack_koi', 'koi_eat', 'eat_sometimes', 'sometimes_popular', 'popular_attractive', 'attractive_shop', 'shop_try', 'try_buy', 'buy_something', 'something_small', 'small_want', 'want_buy', 'buy_birthday', 'birthday_course', 'course_parent', 'parent_plq', 'plq_big', 'big_mall', 'mall_lot', 'lot_space', 'space_park', 'park_symbolises', 'symbolises_singapore', 'singapore_green', 'green_city', 'city_sometimes', 'sometimes_school', 'school_send', 'send_u', 'u_language', 'language_competition', 'competition_father', 'father_community', 'community_member', 'member_sometimes', 'sometimes_deepavali', 'deepavali_sometimes', 'sometimes_friend', 'friend_dance', 'dance_song', 'song_choreograph', 'choreograph_song', 'song_fun', 'fun_robot', 'robot_going', 'going_kiosk', 'kiosk_saying', 'saying_came', 'came_think', 'think_could', 'could_add', 'add_greenery', 'greenery_want', 'want_bench', 'bench_friend', 'friend_spent', 'spent_10', '10_minute', 'minute_finding', 'finding_seat', 'seat_people', 'people_left', 'left_could', 'could_find', 'find_seat', 'seat_maybe', 'maybe_could', 'could_fill', 'fill_bench', 'bench_table', 'table_chair', 'chair_cool', 'cool_aesthetic', 'aesthetic_feel', 'feel_peaceful', 'peaceful_much', 'much_singapore', 'singapore_heritage', 'heritage_built', 'built_mall', 'mall_think', 'think_historical', 'historical_thing', 'thing_family', 'family_like', 'like_bazaar', 'bazaar_especially', 'especially_hari', 'hari_raya', 'raya_haji', 'haji_lot', 'lot_shop', 'shop_food', 'food_malay', 'malay_food', 'food_sell', 'sell_mat', 'mat_buy', 'buy_mat', 'mat_lay', 'lay_every', 'every_year', 'year_time', 'time_missed', 'missed_due', 'due_covid', 'covid_couldnt', 'couldnt_mostly', 'mostly_based', 'based_muslim', 'muslim_culture', 'culture_want', 'want_indian', 'indian_culture', 'culture_little', 'little_india', 'india_chinese', 'chinese_chinatown', 'chinatown_usually', 'usually_hari', 'hari_raya', 'raya_always']\n",
      "['guess_first', 'first_mala', 'mala_colleague', 'colleague_foreigner', 'foreigner_exposed', 'exposed_normal', 'normal_singaporean', 'singaporean_cuisine', 'cuisine_first', 'first_time', 'time_bad', 'bad_guess', 'guess_sort', 'sort_lot', 'lot_staff', 'staff_working', 'working_plq', 'plq_mall', 'mall_look', 'look_current', 'current_amenity', 'amenity_water', 'water_cooler', 'cooler_open', 'open_space', 'space_concept', 'concept_light', 'light_atmosphere', 'atmosphere_get', 'get_hot', 'hot_fan', 'fan_save', 'save_money', 'money_something', 'something_normal', 'normal_day', 'day_whereby', 'whereby_work', 'work_office', 'office_worker', 'worker_help', 'help_control', 'control_automate', 'automate_normally', 'normally_inside', 'inside_office', 'office_today', 'today_crowded', 'crowded_outside', 'outside_geylang', 'geylang_serai', 'serai_besar', 'besar_went']\n",
      "['interesting_walk', 'walk_mall', 'mall_explore', 'explore_buy', 'buy_lot', 'lot_food', 'food_beautiful', 'beautiful_think', 'think_current', 'current_amenity', 'amenity_meet', 'meet_need', 'need_lot', 'lot_food', 'food_shop', 'shop_eat', 'eat_least', 'least_shop', 'shop_necessity', 'necessity_buy', 'buy_mum', 'mum_work', 'work_convenient', 'convenient_historical', 'historical_significance', 'significance_deciding', 'deciding_meaningful', 'meaningful_take', 'take_picture', 'picture_bring', 'bring_back', 'back_memory', 'memory_old', 'old_time', 'time_one', 'one_part', 'part_chinatown', 'chinatown_something', 'something_every', 'every_neighbourhood']\n",
      "['social_offering', 'offering_first', 'first_must', 'must_accomonities', 'accomonities_social', 'social_offering', 'offering_something', 'something_openness', 'openness_depends', 'depends_individual', 'individual_kid', 'kid_people', 'people_view', 'view_hot', 'hot_cultural', 'cultural_heritage', 'heritage_gone', 'gone_grandson', 'grandson_never', 'never_speak', 'speak_malay', 'malay_speak', 'speak_english', 'english_among', 'among_gone', 'gone_bit', 'bit_bit', 'bit_clothing', 'clothing_keep', 'keep_cultural', 'cultural_heritage']\n",
      "['spend_lot', 'lot_time', 'time_friend', 'friend_tampines', 'tampines_study', 'study_lor', 'lor_house', 'house_lor', 'lor_connected', 'connected_community', 'community_le', 'le_last', 'last_four', 'four_year', 'year_think', 'think_welcomed', 'welcomed_first', 'first_time', 'time_stranger', 'stranger_uncle', 'uncle_always', 'always_buy', 'buy_tissue', 'tissue_got', 'got_lot', 'lot_facility', 'facility_3', '3_mall', 'mall_one', 'one_shilinfang', 'shilinfang_maybe', 'maybe_mall', 'mall_got', 'got_different', 'different_thing', 'thing_got', 'got_koi', 'koi_got', 'got_koi', 'koi_convenient', 'convenient_rare', 'rare_four', 'four_mall', 'mall_one', 'one_location', 'location_food', 'food_cheap', 'cheap_yes', 'yes_first', 'first_see', 'see_got', 'got_food', 'food_visit', 'visit_geylang', 'geylang_serai', 'serai_market', 'market_friend', 'friend_food', 'food_poisoning', 'poisoning_ate', 'ate_much', 'much_usually', 'usually_besaar', 'besaar_look', 'look_carpet', 'carpet_hahaha', 'hahaha_auntie']\n",
      "['visit_special', 'special_occasion', 'occasion_month', 'month_exam', 'exam_nearby', 'nearby_many', 'many_thing', 'thing_lot', 'lot_memory', 'memory_sit', 'sit_chill', 'chill_friend', 'friend_never', 'never_participate', 'participate_community', 'community_activity', 'activity_join', 'join_lot', 'lot_food', 'food_place', 'place_eat', 'eat_dustbin', 'dustbin_place', 'place_people', 'people_sit', 'sit_plant', 'plant_usually', 'usually_eat', 'eat_hang', 'hang_one', 'one_lot', 'lot_food', 'food_eat', 'eat_wide', 'wide_variety', 'variety_food', 'food_food', 'food_make', 'make_connected', 'connected_sit', 'sit_guardian', 'guardian_chill', 'chill_talk', 'talk_look', 'look_public', 'public_space', 'space_place', 'place_sit', 'sit_toilet', 'toilet_place', 'place_eat', 'eat_shop', 'shop_look', 'look_different', 'different_thing', 'thing_quiet', 'quiet_place', 'place_crowded', 'crowded_quiet', 'quiet_plq', 'plq_lot', 'lot_shop', 'shop_lot', 'lot_place', 'place_visit', 'visit_fun', 'fun_cultural', 'cultural_heritage', 'heritage_matter', 'matter_u']\n",
      "['work_time', 'time_singpost', 'singpost_coffee', 'coffee_bean', 'bean_greendot', 'greendot_plq', 'plq_vegetarian', 'vegetarian_food', 'food_ask', 'ask_friend', 'friend_colleague', 'colleague_client', 'client_meet', 'meet_convenient', 'convenient_accessible', 'accessible_people', 'people_friendly', 'friendly_recognise', 'recognise_try', 'try_speak', 'speak_language', 'language_engage', 'engage_conversation', 'conversation_welcoming', 'welcoming_openness', 'openness_someone', 'someone_comfortable', 'comfortable_people', 'people_foreigner', 'foreigner_pretty', 'pretty_much', 'much_need', 'need_lively', 'lively_get', 'get_whatever', 'whatever_need', 'need_lot', 'lot_food', 'food_open', 'open_24', '24_7', '7_thought', 'thought_perfect', 'perfect_aesthetic', 'aesthetic_kampung', 'kampung_used', 'used_preserve', 'preserve_kampung', 'kampung_look', 'look_called', 'called_ex', 'ex_bos', 'bos_told', 'told_look', 'look_demolish', 'demolish_build', 'build_new', 'new_building']\n",
      "['community_friendly', 'friendly_neighbour', 'neighbour_market', 'market_everything', 'everything_friend', 'friend_sometimes', 'sometimes_chichat', 'chichat_neigbors', 'neigbors_void', 'void_deck', 'deck_sometimes', 'sometimes_market', 'market_aware', 'aware_community', 'community_event', 'event_seldom', 'seldom_join', 'join_depends', 'depends_mostly', 'mostly_vivo', 'vivo_sometimes', 'sometimes_east', 'east_coast', 'coast_park', 'park_social', 'social_offering', 'offering_meet', 'meet_playground', 'playground_improve', 'improve_child', 'child_play', 'play_area', 'area_comfortable', 'comfortable_child', 'child_run', 'run_spacious', 'spacious_attractiveness', 'attractiveness_complains', 'complains_greenery', 'greenery_want', 'want_water', 'water_park', 'park_cultural', 'cultural_heritage', 'heritage_never', 'never_think', 'think_whether', 'whether_child', 'child_understand', 'understand_got', 'got_free', 'free_learn', 'learn_activity', 'activity_let', 'let_child', 'child_free', 'free_event', 'event_confirm', 'confirm_consider', 'consider_join', 'join_let', 'let_say', 'say_got', 'got_time', 'time_seldom', 'seldom_geylang', 'geylang_serai', 'serai_market', 'market_environment', 'environment_dirty', 'dirty_crowded']\n",
      "['sit_sometimes', 'sometimes_food', 'food_outlet', 'outlet_chinese', 'chinese_food', 'food_food', 'food_court', 'court_distance', 'distance_main', 'main_reason', 'reason_open', 'open_space', 'space_depends', 'depends_weather', 'weather_spend', 'spend_hour', 'hour_la', 'la_neighbor', 'neighbor_deep', 'deep_conversation', 'conversation_never', 'never_participate', 'participate_community', 'community_activity', 'activity_usually', 'usually_deep', 'deep_conversation', 'conversation_family', 'family_neighbor', 'neighbor_ask', 'ask_much', 'much_think', 'think_busybody', 'busybody_community', 'community_chat', 'chat_group', 'group_welcoming', 'welcoming_bad', 'bad_encounter', 'encounter_glass', 'glass_leak', 'leak_rain', 'rain_wet', 'wet_rain', 'rain_everybody', 'everybody_gone', 'gone_weather', 'weather_enjoy', 'enjoy_green', 'green_space', 'space_lot', 'lot_people', 'people_jogging', 'jogging_nothing', 'nothing_crowded', 'crowded_term', 'term_amenity', 'amenity_thing', 'thing_open', 'open_space', 'space_city', 'city_plaza', 'plaza_especially', 'especially_security', 'security_check', 'check_handphone', 'handphone_shop', 'shop_dress', 'dress_inside', 'inside_geylang', 'geylang_serai', 'serai_market', 'market_malay', 'malay_wisma', 'wisma_serai', 'serai_nothing']\n",
      "['mac_common', 'common_student', 'student_spend', 'spend_time', 'time_together', 'together_school', 'school_meal', 'meal_bond', 'bond_starbucks', 'starbucks_conducive', 'conducive_environment', 'environment_chat', 'chat_friend', 'friend_study', 'study_often', 'often_people', 'people_lot', 'lot_cafe', 'cafe_eat', 'eat_study', 'study_green', 'green_space', 'space_differentiate', 'differentiate_others', 'others_near', 'near_near', 'near_school', 'school_social', 'social_offering', 'offering_need', 'need_socialise', 'socialise_better', 'better_communicate', 'communicate_people', 'people_comfortable', 'comfortable_openness', 'openness_linked', 'linked_social', 'social_offering', 'offering_singapore', 'singapore_need', 'need_little', 'little_interaction', 'interaction_others', 'others_cohesive', 'cohesive_society', 'society_want', 'want_table', 'table_seat', 'seat_better', 'better_conducive', 'conducive_food', 'food_amenity', 'amenity_save', 'save_time', 'time_spend', 'spend_time', 'time_work', 'work_study', 'study_space', 'space_green', 'green_open', 'open_space', 'space_attract', 'attract_u', 'u_space', 'space_cultural', 'cultural_heritage', 'heritage_matter', 'matter_u', 'u_need', 'need_study', 'study_cultural', 'cultural_heritage', 'heritage_long', 'long_erode', 'erode_cultural', 'cultural_heritage', 'heritage_fine', 'fine_maybe', 'maybe_tourist', 'tourist_u', 'u_market', 'market_went', 'went_parent', 'parent_spend', 'spend_time']\n",
      "['workout_far', 'far_everyday', 'everyday_depend', 'depend_class', 'class_want', 'want_take', 'take_way', 'way_lockdown', 'lockdown_everybody', 'everybody_keeping', 'keeping_covid', 'covid_hang', 'hang_group', 'group_friend', 'friend_virgin', 'virgin_active', 'active_gym', 'gym_workout', 'workout_shop', 'shop_errand', 'errand_openness', 'openness_open', 'open_worried', 'worried_safety', 'safety_space', 'space_open', 'open_space', 'space_quiet', 'quiet_clean', 'clean_peace', 'peace_blessed', 'blessed_construction', 'construction_memory', 'memory_roupoh', 'roupoh_grandparent', 'grandparent_stay', 'stay_two', 'two_minute', 'minute_wet', 'wet_market', 'market_last', 'last_time', 'time_parent', 'parent_worry', 'worry_kid', 'kid_carefree', 'carefree_life', 'life_mother', 'mother_ask', 'ask_buy', 'buy_vegetable', 'vegetable_different', 'different_live', 'live_get', 'get_older', 'older_get', 'get_married']\n",
      "['much_hope', 'hope_see', 'see_better', 'better_use', 'use_public', 'public_space', 'space_weekday', 'weekday_line', 'line_dancing', 'dancing_air', 'air_flow', 'flow_well', 'well_fan', 'fan_provided', 'provided_make', 'make_cooling', 'cooling_like', 'like_public', 'public_chair', 'chair_table', 'table_provided', 'provided_plq', 'plq_shopping', 'shopping_mall', 'mall_supermarket', 'supermarket_walkable', 'walkable_distance', 'distance_make', 'make_convenient', 'convenient_cultural', 'cultural_heritage']\n",
      "['open_air', 'air_flow', 'flow_playground', 'playground_amazing', 'amazing_greenary', 'greenary_fresh', 'fresh_air', 'air_plus', 'plus_playground', 'playground_main', 'main_reason', 'reason_came', 'came_swing', 'swing_cannot', 'cannot_found', 'found_playground', 'playground_safer', 'safer_got', 'got_trampoline', 'trampoline_got', 'got_swing', 'swing_got', 'got_tunnel', 'tunnel_climbing', 'climbing_frame', 'frame_normal', 'normal_playground', 'playground_suitable', 'suitable_younger', 'younger_child', 'child_splash', 'splash_zone', 'zone_lot', 'lot_playground', 'playground_singapore', 'singapore_older', 'older_kid', 'kid_playground', 'playground_cultural', 'cultural_heritage']\n",
      "['indonesian_shop', 'shop_city', 'city_plaze', 'plaze_make', 'make_attractive', 'attractive_like', 'like_open', 'open_dont', 'dont_worry', 'worry_noisy', 'noisy_sit', 'sit_public', 'public_space', 'space_chit', 'chit_chat', 'chat_cultural', 'cultural_heritage']\n",
      "['come_friend', 'friend_bring', 'bring_kid', 'kid_play', 'play_playground', 'playground_greenary', 'greenary_air', 'air_flow', 'flow_playground', 'playground_ideal', 'ideal_kid', 'kid_cultural', 'cultural_heritage']\n",
      "['location_ideal', 'ideal_center', 'center_community', 'community_welcoming', 'welcoming_lot', 'lot_indonesian', 'indonesian_make', 'make_home', 'home_like', 'like_public', 'public_space', 'space_sit', 'sit_relax', 'relax_awhile', 'awhile_use', 'use_amenity', 'amenity_cultural', 'cultural_heritage']\n",
      "['everyone_else', 'else_pretty', 'pretty_chill', 'chill_comfortable', 'comfortable_come', 'come_food', 'food_playground', 'playground_lot', 'lot_choice', 'choice_food', 'food_cultural', 'cultural_heritage']\n",
      "['meet_sister', 'sister_nearby', 'nearby_convenient', 'convenient_community', 'community_friendly', 'friendly_public', 'public_space', 'space_espeically', 'espeically_day', 'day_like', 'like_free', 'free_wifi', 'wifi_cultural', 'cultural_heritage']\n",
      "['different_place', 'place_neighbourhood', 'neighbourhood_windy', 'windy_like', 'like_white', 'white_noise', 'noise_enjoyed', 'enjoyed_public', 'public_table', 'table_chair', 'chair_open', 'open_plaza', 'plaza_lot', 'lot_amenity', 'amenity_nearby', 'nearby_make', 'make_convenient', 'convenient_cultural', 'cultural_heritage']\n",
      "['poeple_friendly', 'friendly_welcoming', 'welcoming_greenary', 'greenary_air', 'air_flow', 'flow_bring', 'bring_kid', 'kid_playground', 'playground_different', 'different_stuff', 'stuff_play', 'play_different', 'different_age', 'age_swing', 'swing_cultural', 'cultural_heritage']\n",
      "['best_location', 'location_meet', 'meet_friend', 'friend_lot', 'lot_indonesian', 'indonesian_related', 'related_stuff', 'stuff_plq', 'plq_greenary', 'greenary_windy', 'windy_lot', 'lot_indonesian', 'indonesian_money', 'money_remittance', 'remittance_indonesian', 'indonesian_local', 'local_food', 'food_cultural', 'cultural_heritage']\n",
      "['lot_friend', 'friend_neighbourhood', 'neighbourhood_community', 'community_friendly', 'friendly_close', 'close_neighbour', 'neighbour_meet', 'meet_occasionally', 'occasionally_like', 'like_playground', 'playground_cultural', 'cultural_heritage']\n",
      "['open_space', 'space_windy', 'windy_greenary', 'greenary_playground', 'playground_fun', 'fun_hang', 'hang_see', 'see_space', 'space_sit', 'sit_play', 'play_mobile', 'mobile_game', 'game_cultural', 'cultural_heritage']\n",
      "['people_friendly', 'friendly_make', 'make_lovable', 'lovable_attractive', 'attractive_playground', 'playground_shopping', 'shopping_mall', 'mall_everything', 'everything_convenient', 'convenient_mrt', 'mrt_plus', 'plus_supermarket', 'supermarket_big', 'big_cultural', 'cultural_heritage']\n",
      "['makan_drink', 'drink_meet', 'meet_old', 'old_friend', 'friend_stay', 'stay_woodland', 'woodland_younger', 'younger_day', 'day_stayed', 'stayed_welcoming', 'welcoming_especially', 'especially_malay', 'malay_muslim', 'muslim_society', 'society_upon', 'upon_time', 'time_malay', 'malay_malay', 'malay_especially', 'especially_fasting', 'fasting_month', 'month_malay', 'malay_bazaar', 'bazaar_ramadan', 'ramadan_month', 'month_singaporean', 'singaporean_every', 'every_part', 'part_singaporean', 'singaporean_shopping', 'shopping_eating', 'eating_every', 'every_year', 'year_yearly', 'yearly_affair', 'affair_bad', 'bad_need', 'need_hygiene', 'hygiene_last', 'last_time', 'time_kampong', 'kampong_life', 'life_low', 'low_hygiene', 'hygiene_somehow', 'somehow_survive', 'survive_government', 'government_great', 'great_job', 'job_upgrade', 'upgrade_everyone', 'everyone_live', 'live_better', 'better_hygiene', 'hygiene_appreciate', 'appreciate_life', 'life_changed', 'changed_think', 'think_age', 'age_partially', 'partially_miss', 'miss_atmosphere', 'atmosphere_kampong', 'kampong_people', 'people_lucky', 'lucky_see', 'see_kampong', 'kampong_life', 'life_miss', 'miss_friend', 'friend_food', 'food_one', 'one_week', 'week_twice', 'twice_old', 'old_memory', 'memory_think', 'think_slowly', 'slowly_bit', 'bit_bit', 'bit_gone', 'gone_old', 'old_man', 'man_seen', 'seen_getting', 'getting_lesser', 'lesser_lesser', 'lesser_maybe', 'maybe_vanished', 'vanished_well', 'well_malay', 'malay_game', 'game_play', 'play_kite', 'kite_top', 'top_younger', 'younger_day', 'day_missed', 'missed_think', 'think_slowly', 'slowly_vanish', 'vanish_nowadays', 'nowadays_boy', 'boy_game', 'game_handphones', 'handphones_gadget', 'gadget_play', 'play_cultural', 'cultural_game', 'game_miss', 'miss_wedding', 'wedding_ceremony', 'ceremony_kampong', 'kampong_life', 'life_people', 'people_eat', 'eat_together', 'together_sing', 'sing_along', 'along_type', 'type_environment', 'environment_geylang', 'geylang_fasting', 'fasting_month', 'month_bazaar', 'bazaar_main', 'main_malay', 'malay_muslim', 'muslim_flat', 'flat_demolished', 'demolished_think', 'think_city', 'city_plaza', 'plaza_river', 'river_flooded', 'flooded_prone', 'prone_every', 'every_monsoon', 'monsoon_season', 'season_flood', 'flood_time', 'time_kid', 'kid_enjoyed', 'enjoyed_worry', 'worry_u', 'u_hang', 'hang_time', 'time_mcdonalds', 'mcdonalds_kentucky', 'kentucky_6pm', '6pm_everybody', 'everybody_home', 'home_night', 'night_time', 'time_hang', 'hang_u']\n",
      "['together_participate', 'participate_community', 'community_activity', 'activity_community', 'community_muslim', 'muslim_community', 'community_donation', 'donation_ccrc', 'ccrc_join', 'join_volunteered', 'volunteered_help', 'help_arrange', 'arrange_table', 'table_chair', 'chair_long', 'long_community', 'community_nothing', 'nothing_changed', 'changed_strong', 'strong_community', 'community_call', 'call_5pm', '5pm_7pm', '7pm_home', 'home_full', 'full_house', 'house_saturday', 'saturday_sunday', 'sunday_changing', 'changing_become', 'become_modern', 'modern_town', 'town_lot', 'lot_building', 'building_shopping', 'shopping_centre', 'centre_food', 'food_centre', 'centre_since', 'since_young', 'young_72', '72_year', 'year_old', 'old_lot', 'lot_history', 'history_cannot', 'cannot_say', 'say_miss', 'miss_kampong', 'kampong_spirit', 'spirit_miss', 'miss_marble', 'marble_kit', 'kit_lost', 'lost_activity', 'activity_sit', 'sit_chit', 'chit_chat', 'chat_walk', 'walk_miss', 'miss_playing', 'playing_neighbour', 'neighbour_neighbour', 'neighbour_back', 'back_close', 'close_door', 'door_kampong', 'kampong_time', 'time_house', 'house_home', 'home_closed', 'closed_door', 'door_whole', 'whole_catch', 'catch_fish', 'fish_swim', 'swim_geylang', 'geylang_river', 'river_catch', 'catch_frog', 'frog_kampung', 'kampung_think', 'think_thing', 'thing_brought', 'brought_back', 'back_child', 'child_modern', 'modern_view', 'view_garden', 'garden_back', 'back_new', 'new_generation', 'generation_changing']\n",
      "['plan_quarter', 'quarter_however', 'however_hangout', 'hangout_friend', 'friend_back', 'back_usually', 'usually_hang', 'hang_toa', 'toa_payoh', 'payoh_friend', 'friend_near', 'near_workspace', 'workspace_atmosphere', 'atmosphere_ok', 'ok_sense', 'sense_friendly', 'friendly_community', 'community_hometown', 'hometown_philippine', 'philippine_friendly', 'friendly_neighbourhood', 'neighbourhood_open', 'open_hard', 'hard_friend', 'friend_open', 'open_spacious', 'spacious_plant', 'plant_chair', 'chair_seat', 'seat_city', 'city_plaza', 'plaza_hangout', 'hangout_indonesian', 'indonesian_lucky', 'lucky_plaza', 'plaza_hangout', 'hangout_philippine', 'philippine_wo', 'wo_remit', 'remit_money', 'money_miss', 'miss_filipino', 'filipino_food']\n",
      "['plq_hangout', 'hangout_nature', 'nature_warming', 'warming_full', 'full_green', 'green_everywhere', 'everywhere_big', 'big_refreshing', 'refreshing_mall', 'mall_facility', 'facility_big', 'big_cant', 'cant_find', 'find_mall', 'mall_find', 'find_mall', 'mall_used', 'used_sit', 'sit_6th', '6th_floor', 'floor_food', 'food_court', 'court_used', 'used_eat', 'eat_food', 'food_thats', 'thats_sit', 'sit_eat', 'eat_accomodating', 'accomodating_meet', 'meet_friend', 'friend_place', 'place_ask', 'ask_someone', 'someone_welcome', 'welcome_answer', 'answer_question', 'question_tell', 'tell_place', 'place_want', 'want_yes', 'yes_home', 'home_see', 'see_different', 'different_nationality', 'nationality_home', 'home_clean', 'clean_organized', 'organized_different', 'different_home', 'home_sit', 'sit_friend', 'friend_cinema', 'cinema_saw', 'saw_new', 'new_eye', 'eye_gorgeous', 'gorgeous_compared', 'compared_dubai', 'dubai_phillipines', 'phillipines_see', 'see_tree', 'tree_building', 'building_unusal', 'unusal_building', 'building_able', 'able_plant', 'plant_tree', 'tree_used', 'used_singpost', 'singpost_window', 'window_shopping']\n",
      "['favourite_place', 'place_hang', 'hang_playground', 'playground_plq', 'plq_wine', 'wine_connection', 'connection_close', 'close_mrt', 'mrt_closer', 'closer_airport', 'airport_somewhat', 'somewhat_close', 'close_city', 'city_singapore', 'singapore_much', 'much_cleaner', 'cleaner_artificial', 'artificial_compared', 'compared_japan', 'japan_pretty', 'pretty_friendly', 'friendly_many', 'many_family', 'family_live', 'live_condo', 'condo_dont', 'dont_see', 'see_single', 'single_couple', 'couple_family', 'family_living', 'living_sometimes', 'sometimes_miss', 'miss_rule', 'rule_connected', 'connected_community', 'community_rule', 'rule_wife', 'wife_used', 'used_participate', 'participate_many', 'many_hawker', 'hawker_centre', 'centre_compared', 'compared_place', 'place_bedok', 'bedok_want', 'want_learn', 'learn_history', 'history_singapore']\n",
      "['quarter_common', 'common_hangout', 'hangout_indonesian', 'indonesian_indonesian', 'indonesian_want', 'want_look', 'look_fellow', 'fellow_indonesian', 'indonesian_chichat', 'chichat_discus', 'discus_family', 'family_child', 'child_problem', 'problem_hangout', 'hangout_stadium', 'stadium_near', 'near_kallang', 'kallang_wave', 'wave_mall', 'mall_prefer', 'prefer_le', 'le_crowded', 'crowded_place', 'place_place', 'place_rest', 'rest_chitchat', 'chitchat_friend', 'friend_welcomed', 'welcomed_people', 'people_smile', 'smile_community', 'community_taking', 'taking_care', 'care_employer', 'employer_kid', 'kid_talk', 'talk_ask', 'ask_experience', 'experience_outside', 'outside_work', 'work_singapore', 'singapore_comfortable', 'comfortable_sitting', 'sitting_quarter', 'quarter_compared', 'compared_orchard', 'orchard_huge', 'huge_variety', 'variety_food', 'food_convenient', 'convenient_get', 'get_food', 'food_truck', 'truck_outside', 'outside_mall', 'mall_sitting', 'sitting_greenery', 'greenery_quarter', 'quarter_make', 'make_happy', 'happy_fresh', 'fresh_air', 'air_plant', 'plant_friend', 'friend_used', 'used_sheng', 'sheng_siong', 'siong_market', 'market_1km', '1km_city', 'city_plaza', 'plaza_tanjong', 'tanjong_katong', 'katong_complex', 'complex_sell', 'sell_indonesian', 'indonesian_product', 'product_easy', 'easy_transfer', 'transfer_money', 'money_back', 'back_home']\n",
      "['easy_find', 'find_indonesian', 'indonesian_friend', 'friend_quarter', 'quarter_hangout', 'hangout_indonesian', 'indonesian_mainly', 'mainly_chichat', 'chichat_friend', 'friend_quarter', 'quarter_popular', 'popular_hangout', 'hangout_indonesian', 'indonesian_find', 'find_welcoming', 'welcoming_find', 'find_indonesian', 'indonesian_friend', 'friend_old', 'old_place', 'place_tanjong', 'tanjong_katong', 'katong_complex', 'complex_city', 'city_plaza', 'plaza_many', 'many_indonesian', 'indonesian_product', 'product_sold', 'sold_many', 'many_indonesian', 'indonesian_food', 'food_remind', 'remind_u', 'u_hometown', 'hometown_modern']\n",
      "['quarter_lunch', 'lunch_gathering', 'gathering_relaxing', 'relaxing_see', 'see_mix', 'mix_people', 'people_ease', 'ease_unlike', 'unlike_downtown', 'downtown_pressure', 'pressure_everyone', 'everyone_expression', 'expression_always', 'always_rushing', 'rushing_sometimes', 'sometimes_take', 'take_break', 'break_work', 'work_stroll', 'stroll_de', 'de_stress', 'stress_spacious', 'spacious_space', 'space_make', 'make_easy', 'easy_people', 'people_watch', 'watch_comfortable', 'comfortable_convenient', 'convenient_near', 'near_mrt', 'mrt_station', 'station_buddhist', 'buddhist_temple', 'temple_hindu', 'hindu_temple', 'temple_monastery', 'monastery_6', '6_minute', 'minute_walk', 'walk_fair', 'fair_festive', 'festive_time', 'time_place', 'place_humane', 'humane_le', 'le_sterile']\n",
      "['near_residence', 'residence_restaurant', 'restaurant_open', 'open_till', 'till_late', 'late_hot', 'hot_open', 'open_plaza', 'plaza_lunchtime', 'lunchtime_walk', 'walk_inside', 'inside_mall', 'mall_colleague', 'colleague_environment', 'environment_environment', 'environment_chill', 'chill_mix', 'mix_people', 'people_office', 'office_worker', 'worker_thery', 'thery_look', 'look_ease', 'ease_food', 'food_everywhere', 'everywhere_near', 'near_mrt', 'mrt_green', 'green_space', 'space_help', 'help_closer', 'closer_nature', 'nature_cultural', 'cultural_heritage', 'heritage_place', 'place_historical', 'historical_significance', 'significance_keen', 'keen_explore']\n",
      "['lunch_hectic', 'hectic_cbd', 'cbd_crowded', 'crowded_queue', 'queue_buying', 'buying_food', 'food_long', 'long_dont', 'dont_usually', 'usually_spend', 'spend_time', 'time_lunch', 'lunch_time', 'time_open', 'open_space', 'space_company', 'company_pantry', 'pantry_normally', 'normally_bring', 'bring_food', 'food_back', 'back_eat', 'eat_people', 'people_appreciate', 'appreciate_public', 'public_space', 'space_see', 'see_people', 'people_using', 'using_space', 'space_convenient', 'convenient_near', 'near_mrt', 'mrt_building', 'building_tall', 'tall_spacious', 'spacious_high', 'high_ceiling', 'ceiling_dont', 'dont_cultural', 'cultural_heritage', 'heritage_historical', 'historical_place', 'place_singapore', 'singapore_never', 'never_mind', 'mind_cultural', 'cultural_heritage', 'heritage_understanding', 'understanding_cultural', 'cultural_heritage', 'heritage_work']\n",
      "['strategic_location', 'location_near', 'near_downtown', 'downtown_airport', 'airport_connected', 'connected_2', '2_mrt', 'mrt_line', 'line_accessible', 'accessible_plenty', 'plenty_food', 'food_option', 'option_think', 'think_need', 'need_sitting', 'sitting_there', 'there_greenery', 'greenery_well', 'well_shade', 'shade_shelter', 'shelter_get', 'get_wet', 'wet_tidy', 'tidy_organised', 'organised_many', 'many_mall', 'mall_many', 'many_entertainment', 'entertainment_option', 'option_used', 'used_giant', 'giant_drain', 'drain_sealed', 'sealed_build', 'build_shopping', 'shopping_mall', 'mall_knowing', 'knowing_cultural', 'cultural_heritage', 'heritage_appreciative', 'appreciative_work', 'work_sure', 'sure_work']\n",
      "['usually_lunch', 'lunch_colleages', 'colleages_office', 'office_plq', 'plq_vibe', 'vibe_mix', 'mix_people', 'people_greenery', 'greenery_doesnt', 'doesnt_concrete', 'concrete_jungle', 'jungle_think', 'think_public', 'public_space', 'space_city', 'city_centre', 'centre_prefer', 'prefer_public', 'public_space', 'space_city', 'city_centre', 'centre_stuff', 'stuff_diverse', 'diverse_option', 'option_little', 'little_bit', 'bit_colleague', 'colleague_life', 'life_near', 'near_invite', 'invite_favourite', 'favourite_lunch', 'lunch_spot', 'spot_understanding', 'understanding_cultural', 'cultural_heritage', 'heritage_work']\n",
      "['plq_better', 'better_choice', 'choice_kinex', 'kinex_choose', 'choose_gathering', 'gathering_option', 'option_mix', 'mix_people', 'people_lively', 'lively_atmosphere', 'atmosphere_hip', 'hip_bar', 'bar_cafe', 'cafe_hip', 'hip_convenient', 'convenient_near', 'near_mrt', 'mrt_many', 'many_mall', 'mall_greenery', 'greenery_doesnt', 'doesnt_appeal', 'appeal_dont', 'dont_cultural', 'cultural_heritage']\n",
      "['playground_bring', 'bring_kid', 'kid_together', 'together_friend', 'friend_think', 'think_community', 'community_friendly', 'friendly_people', 'people_courteuous', 'courteuous_greet', 'greet_participate', 'participate_community', 'community_event', 'event_neighbourhood', 'neighbourhood_think', 'think_way', 'way_new', 'new_friend', 'friend_within', 'within_community', 'community_huge', 'huge_variety', 'variety_food', 'food_attracted', 'attracted_new', 'new_playground', 'playground_big', 'big_modern', 'modern_sitting', 'sitting_7', '7_eleven', 'eleven_nearby', 'nearby_playground', 'playground_greenery', 'greenery_doesnt', 'doesnt_appeal', 'appeal_miss', 'miss_old', 'old_playground', 'playground_sand', 'sand_interested', 'interested_understanding', 'understanding_cultural', 'cultural_heritage', 'heritage_think', 'think_child', 'child_interested', 'interested_cultural', 'cultural_heritage']\n",
      "['gathering_party', 'party_picnic', 'picnic_traditional', 'traditional_nostalgic', 'nostalgic_place', 'place_changi', 'changi_village', 'village_east', 'east_coast', 'coast_park', 'park_le', 'le_willingness', 'willingness_bond', 'bond_together', 'together_example', 'example_visiting', 'visiting_relative', 'relative_weekend', 'weekend_well', 'well_communtiy', 'communtiy_distant', 'distant_social', 'social_barrier', 'barrier_people', 'people_different', 'different_socio', 'socio_economic', 'economic_background', 'background_inclusive', 'inclusive_polarised', 'polarised_le', 'le_willingness', 'willingness_bond', 'bond_together', 'together_example', 'example_visiting', 'visiting_relative', 'relative_weekend', 'weekend_well', 'well_think', 'think_amenity', 'amenity_people', 'people_must', 'must_change', 'change_way', 'way_living', 'living_thinking', 'thinking_inclusive', 'inclusive_gracious', 'gracious_last', 'last_time', 'time_sandarea', 'sandarea_plaground', 'plaground_miss', 'miss_kampung', 'kampung_spirit', 'spirit_old', 'old_day']\n",
      "['community_think', 'think_community', 'community_closely', 'closely_bonded', 'bonded_young', 'young_mother', 'mother_condo', 'condo_create', 'create_online', 'online_chat', 'chat_group', 'group_share', 'share_useful', 'useful_information', 'information_kid', 'kid_place', 'place_eat', 'eat_tuition', 'tuition_centre', 'centre_bulk', 'bulk_purchasing', 'purchasing_helping', 'helping_e', 'e_g', 'g_short', 'short_item', 'item_many', 'many_similar', 'similar_background', 'background_young', 'young_mother', 'mother_condo', 'condo_make', 'make_connect', 'connect_better', 'better_community', 'community_neighbour', 'neighbour_rarely', 'rarely_community', 'community_event', 'event_friendly', 'friendly_neighbour', 'neighbour_culture', 'culture_see', 'see_new', 'new_face', 'face_talk', 'talk_think', 'think_necessary', 'necessary_specifically', 'specifically_hold', 'hold_community', 'community_event', 'event_introduce', 'introduce_new', 'new_neighbour', 'neighbour_community', 'community_initated', 'initated_event', 'event_seems', 'seems_genuine', 'genuine_management', 'management_side', 'side_could', 'could_try', 'try_get', 'get_resident', 'resident_interested', 'interested_participating', 'participating_community', 'community_grandparent', 'grandparent_older', 'older_sibings', 'sibings_household', 'household_contribute', 'contribute_toy', 'toy_open', 'open_play', 'play_session', 'session_function', 'function_room', 'room_kid', 'kid_together', 'together_play', 'play_playground', 'playground_outdoor', 'outdoor_one', 'one_crowded', 'crowded_accessible', 'accessible_there', 'there_river', 'river_behind', 'behind_house', 'house_make', 'make_closer', 'closer_nature', 'nature_benefitcial', 'benefitcial_expose', 'expose_kid', 'kid_nature', 'nature_kid', 'kid_man', 'man_culture', 'culture_enrich', 'enrich_knowledge', 'knowledge_culture', 'culture_history']\n",
      "['favourite_playground', 'playground_pool', 'pool_condo', 'condo_recommend', 'recommend_parent', 'parent_stay', 'stay_especially', 'especially_playground', 'playground_lot', 'lot_child', 'child_need', 'need_play', 'play_group', 'group_best', 'best_play', 'play_group', 'group_lot', 'lot_people', 'people_staying', 'staying_right', 'right_dont', 'dont_welcoming', 'welcoming_kid', 'kid_playing', 'playing_considered', 'considered_people', 'people_represent', 'represent_culture', 'culture_people', 'people_open', 'open_welcoming', 'welcoming_culture', 'culture_easily', 'easily_spread', 'spread_invite', 'invite_house', 'house_share', 'share_greenery', 'greenery_clean', 'clean_right', 'right_dont', 'dont_notice', 'notice_right']\n",
      "['lot_stuff', 'stuff_eat', 'eat_drink', 'drink_without', 'without_people', 'people_judging', 'judging_place', 'place_world', 'world_received', 'received_friendly', 'friendly_welcome', 'welcome_concrete', 'concrete_stuff', 'stuff_amentities', 'amentities_wise', 'wise_water', 'water_pond', 'pond_waterfall', 'waterfall_set', 'set_memory', 'memory_lane', 'lane_chinatown', 'chinatown_set', 'set_one', 'one_perfectly']\n",
      "['playground_friend', 'friend_told', 'told_child', 'child_many', 'many_opportunity', 'opportunity_mix', 'mix_people', 'people_living', 'living_city', 'city_feeling', 'feeling_kampung', 'kampung_spirit', 'spirit_one', 'one_thing', 'thing_playground', 'playground_water', 'water_cooler', 'cooler_see', 'see_child', 'child_meet', 'meet_friend', 'friend_bar', 'bar_possible', 'possible_much']\n",
      "['watch_movie', 'movie_sometimes', 'sometimes_got', 'got_cinema', 'cinema_eat', 'eat_lepak', 'lepak_school', 'school_bus', 'bus_stop', 'stop_away', 'away_school', 'school_usually', 'usually_2pm', '2pm_5pm', '5pm_friendly', 'friendly_tend', 'tend_greet', 'greet_u', 'u_remove', 'remove_advertisement', 'advertisement_study', 'study_thing', 'thing_always', 'always_distracts', 'distracts_u', 'u_annoying', 'annoying_irrelevant', 'irrelevant_music', 'music_table', 'table_chair', 'chair_always', 'always_packed', 'packed_feel', 'feel_calming', 'calming_studying', 'studying_garden', 'garden_rain', 'rain_water', 'water_splash', 'splash_inside', 'inside_shelter', 'shelter_last', 'last_time', 'time_used', 'used_one', 'one_field', 'field_build', 'build_plq', 'plq_used', 'used_road', 'road_cutting', 'cutting_used', 'used_called', 'called_one', 'one_km', 'km_mall', 'mall_called', 'called_kinex']\n",
      "['stay_serangoon', 'serangoon_came', 'came_shop', 'shop_malay', 'malay_community', 'community_food', 'food_mostly', 'mostly_halal', 'halal_play', 'play_kid', 'kid_playground', 'playground_haig', 'haig_market', 'market_conducive', 'conducive_bonding', 'bonding_family', 'family_crowded', 'crowded_many', 'many_place', 'place_sit', 'sit_safety', 'safety_crowded', 'crowded_space', 'space_better', 'better_indoors', 'indoors_hot', 'hot_usually', 'usually_find', 'find_lot', 'lot_thing', 'thing_near', 'near_bus', 'bus_stop', 'stop_mrt', 'mrt_kid', 'kid_macdonalds', 'macdonalds_easily', 'easily_accessible', 'accessible_malay', 'malay_community', 'community_welcoming', 'welcoming_table', 'table_chair', 'chair_sit', 'sit_haig', 'haig_food', 'food_market', 'market_get', 'get_crowded', 'crowded_singapore', 'singapore_multiracial', 'multiracial_mostly', 'mostly_chinese', 'chinese_malay', 'malay_culture', 'culture_respect', 'respect_think', 'think_changed', 'changed_lot', 'lot_used', 'used_cinema', 'cinema_young', 'young_mum', 'mum_used', 'used_bring', 'bring_movie', 'movie_lot', 'lot_old', 'old_memory', 'memory_live', 'live_every', 'every_weekend', 'weekend_market', 'market_food', 'food_market', 'market_space', 'space_well', 'well_known', 'known_food', 'food_favourite', 'favourite_food', 'food_mostly', 'mostly_indian', 'indian_food']\n",
      "['lot_shopping', 'shopping_centre', 'centre_dine', 'dine_stayed', 'stayed_participate', 'participate_community', 'community_activity', 'activity_dance', 'dance_showcase', 'showcase_remember', 'remember_join', 'join_community', 'community_group', 'group_eat', 'eat_together', 'together_remember', 'remember_lot', 'lot_shopping', 'shopping_centre', 'centre_dine', 'dine_rounder', 'rounder_many', 'many_different', 'different_facility', 'facility_study', 'study_easily', 'easily_accessible', 'accessible_mrt', 'mrt_bus', 'bus_stay', 'stay_katong', 'katong_nearest', 'nearest_transport', 'transport_staying', 'staying_katong', 'katong_take', 'take_home', 'home_stayed', 'stayed_12', '12_year', 'year_fondest', 'fondest_memory', 'memory_coming', 'coming_back', 'back_everyday', 'everyday_taking', 'taking_mrt', 'mrt_plq', 'plq_think', 'think_bowling', 'bowling_alley', 'alley_maybe', 'maybe_recreational', 'recreational_facility', 'facility_yes', 'yes_well', 'well_informed', 'informed_say', 'say_people', 'people_studying', 'studying_feel', 'feel_college', 'college_campus', 'campus_never', 'never_want', 'want_demolished', 'demolished_iconic', 'iconic_cultural', 'cultural_heritage', 'heritage_peranakan', 'peranakan_vibe', 'vibe_think', 'think_diverse', 'diverse_everything']\n",
      "['usually_eat', 'eat_study', 'study_usually', 'usually_spend', 'spend_15', '15_20', '20_spend', 'spend_hour', 'hour_chose', 'chose_plq', 'plq_near', 'near_school', 'school_study', 'study_often', 'often_week', 'week_live', 'live_nearby', 'nearby_chose', 'chose_study', 'study_public', 'public_space', 'space_free', 'free_charge', 'charge_quiet', 'quiet_find', 'find_easy', 'easy_concentrate', 'concentrate_think', 'think_people', 'people_care', 'care_chair', 'chair_table', 'table_think', 'think_table', 'table_chair', 'chair_clean', 'clean_prefer', 'prefer_air', 'air_conditioning', 'conditioning_rather', 'rather_open', 'open_air', 'air_visit', 'visit_park', 'park_cultural', 'cultural_history']\n",
      "['plq_lunch', 'lunch_church', 'church_usually', 'usually_kopitiam', 'kopitiam_food', 'food_think', 'think_people', 'people_friendly', 'friendly_green', 'green_space', 'space_sitting', 'sitting_area', 'area_food', 'food_stall', 'stall_waterbodies', 'waterbodies_much', 'much_cultural', 'cultural_heritage']\n",
      "['plq_food', 'food_friend', 'friend_mostly', 'mostly_get', 'get_bubble', 'bubble_tea', 'tea_think', 'think_wide', 'wide_range', 'range_food', 'food_option', 'option_think', 'think_people', 'people_willing', 'willing_talk', 'talk_old', 'old_uncle', 'uncle_bit', 'bit_unfriendly', 'unfriendly_think', 'think_design', 'design_modern', 'modern_think', 'think_strong', 'strong_cultural', 'cultural_heritage', 'heritage_brought', 'brought_heritage', 'heritage_seems', 'seems_demolished', 'demolished_taken', 'taken_away', 'away_old', 'old_building', 'building_younger', 'younger_people']\n"
     ]
    }
   ],
   "source": [
    "#create bigrams\n",
    "from nltk.util import bigrams\n",
    "def process_bigrams(documents):\n",
    "    process_docs = []\n",
    "    doc_tokens = []\n",
    "    for doc in documents:\n",
    "        doc = doc.lower()\n",
    "        doc_tokens = wtk.tokenize(doc)\n",
    "        doc_tokens = [token for token in doc_tokens if token not in stop_words]\n",
    "        doc_tokens = [wnl.lemmatize(token) for token in doc_tokens] #Can try spacy or see how to use the (nltk.pos_tag()) with lemmatizer\n",
    "        doc_tokens= [\"_\".join(t) for t in bigrams(doc_tokens)]\n",
    "        print(doc_tokens)\n",
    "        doc_tokens = [token for token in doc_tokens if len(token) > 2]\n",
    "        process_docs.append(doc_tokens)\n",
    "    return process_docs\n",
    "process_pos_bigrams=process_bigrams(pos_text)"
   ]
  },
  {
   "cell_type": "code",
   "execution_count": 17,
   "metadata": {},
   "outputs": [],
   "source": [
    "# Create a dictionary representation of the documents. Each word gets an id\n",
    "dictionary = gensim.corpora.Dictionary(process_pos_bigrams)\n",
    "#filtering out bigrams based on their occurrence in the whole sentiments dataset\n",
    "dictionary.filter_extremes(no_below=1, no_above=0.2)"
   ]
  },
  {
   "cell_type": "code",
   "execution_count": 18,
   "metadata": {},
   "outputs": [],
   "source": [
    "# Transforming corpus into bag of words vectors\n",
    "corpus_vect = [dictionary.doc2bow(text) for text in process_pos_bigrams]"
   ]
  },
  {
   "cell_type": "code",
   "execution_count": 19,
   "metadata": {},
   "outputs": [],
   "source": [
    "#Train lda model\n",
    "num_topics = 4\n",
    "ldamodel = gensim.models.ldamodel.LdaModel(corpus_vect, num_topics = num_topics, id2word=dictionary, passes=25, random_state= 0)\n"
   ]
  },
  {
   "cell_type": "code",
   "execution_count": 20,
   "metadata": {},
   "outputs": [
    {
     "name": "stdout",
     "output_type": "stream",
     "text": [
      "0: 0.003*\"public_space\" + 0.003*\"social_offering\" + 0.003*\"participate_community\" + 0.002*\"spend_time\" + 0.002*\"community_activity\" + 0.002*\"shopping_centre\" + 0.001*\"community_friendly\"\n",
      "1: 0.005*\"city_plaza\" + 0.003*\"meet_friend\" + 0.002*\"hangout_indonesian\" + 0.002*\"favourite_food\" + 0.002*\"katong_complex\" + 0.002*\"east_coast\" + 0.002*\"indonesian_food\"\n",
      "2: 0.003*\"open_space\" + 0.003*\"shopping_mall\" + 0.002*\"serai_market\" + 0.002*\"geylang_serai\" + 0.002*\"lot_food\" + 0.002*\"kampong_life\" + 0.002*\"food_court\"\n",
      "3: 0.004*\"shopping_mall\" + 0.003*\"hawker_centre\" + 0.002*\"city_plaza\" + 0.002*\"geylang_serai\" + 0.002*\"table_chair\" + 0.002*\"green_space\" + 0.002*\"community_event\"\n"
     ]
    }
   ],
   "source": [
    "#formatting the topics in print\n",
    "for num ,topic in ldamodel.show_topics(formatted=True, num_topics=num_topics, num_words=7):\n",
    "    print(str(num)+\": \"+ topic)"
   ]
  },
  {
   "cell_type": "code",
   "execution_count": 21,
   "metadata": {},
   "outputs": [
    {
     "name": "stdout",
     "output_type": "stream",
     "text": [
      "Perplexity:  337.88939639354726\n",
      "\n",
      "Coherence Score:  0.46483439596217224\n"
     ]
    }
   ],
   "source": [
    "#Evaluate the performance of trained lda model \n",
    "#perplexity score the lower the better\n",
    "log_perplexity = ldamodel.log_perplexity(corpus_vect)\n",
    "perplexity = 2**(-log_perplexity)\n",
    "print('Perplexity: ',perplexity)\n",
    "\n",
    "# Compute Coherence Score\n",
    "#coherence score the higher the better\n",
    "from gensim.models import CoherenceModel\n",
    "coherence_model_lda = CoherenceModel(model=ldamodel, texts=process_pos_bigrams, dictionary=dictionary, coherence='c_v')\n",
    "coherence_lda = coherence_model_lda.get_coherence()\n",
    "print('\\nCoherence Score: ', coherence_lda)"
   ]
  }
 ],
 "metadata": {
  "kernelspec": {
   "display_name": "Python 3 (ipykernel)",
   "language": "python",
   "name": "python3"
  },
  "language_info": {
   "codemirror_mode": {
    "name": "ipython",
    "version": 3
   },
   "file_extension": ".py",
   "mimetype": "text/x-python",
   "name": "python",
   "nbconvert_exporter": "python",
   "pygments_lexer": "ipython3",
   "version": "3.9.7"
  }
 },
 "nbformat": 4,
 "nbformat_minor": 2
}
